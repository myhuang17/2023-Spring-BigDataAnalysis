{
 "cells": [
  {
   "attachments": {},
   "cell_type": "markdown",
   "metadata": {},
   "source": [
    "這是AIRBNB 香港的資料 我們假設自身即將投入香港地區的房屋租賃事業 希望藉由該筆資料 找尋進入市場的機會</P>\n",
    "在分析的流程部分，我們先將資料進行整理、去除有遺失值的資料或是將遺失值的部分進行填值，並依照變數的型態不同以不同方式進行分析</P>"
   ]
  },
  {
   "attachments": {},
   "cell_type": "markdown",
   "metadata": {},
   "source": [
    "# 零、資料與模組引入\n"
   ]
  },
  {
   "cell_type": "code",
   "execution_count": 86,
   "metadata": {},
   "outputs": [
    {
     "name": "stdout",
     "output_type": "stream",
     "text": [
      "<class 'pandas.core.frame.DataFrame'>\n",
      "RangeIndex: 5936 entries, 0 to 5935\n",
      "Data columns (total 70 columns):\n",
      " #   Column                                        Non-Null Count  Dtype  \n",
      "---  ------                                        --------------  -----  \n",
      " 0   id                                            5936 non-null   int64  \n",
      " 1   scrape_id                                     5936 non-null   int64  \n",
      " 2   last_scraped                                  5936 non-null   object \n",
      " 3   source                                        5936 non-null   object \n",
      " 4   name                                          5936 non-null   object \n",
      " 5   description                                   5830 non-null   object \n",
      " 6   neighborhood_overview                         1898 non-null   object \n",
      " 7   host_id                                       5936 non-null   int64  \n",
      " 8   host_name                                     5936 non-null   object \n",
      " 9   host_since                                    5936 non-null   object \n",
      " 10  host_location                                 4179 non-null   object \n",
      " 11  host_about                                    3934 non-null   object \n",
      " 12  host_response_time                            5420 non-null   object \n",
      " 13  host_response_rate                            5420 non-null   object \n",
      " 14  host_acceptance_rate                          5432 non-null   object \n",
      " 15  host_is_superhost                             5935 non-null   object \n",
      " 16  host_neighbourhood                            5479 non-null   object \n",
      " 17  host_listings_count                           5936 non-null   int64  \n",
      " 18  host_total_listings_count                     5936 non-null   int64  \n",
      " 19  host_verifications                            5936 non-null   object \n",
      " 20  host_has_profile_pic                          5936 non-null   object \n",
      " 21  host_identity_verified                        5936 non-null   object \n",
      " 22  neighbourhood                                 1898 non-null   object \n",
      " 23  neighbourhood_cleansed                        5936 non-null   object \n",
      " 24  neighbourhood_group_cleansed                  0 non-null      float64\n",
      " 25  latitude                                      5936 non-null   float64\n",
      " 26  longitude                                     5936 non-null   float64\n",
      " 27  property_type                                 5936 non-null   object \n",
      " 28  room_type                                     5936 non-null   object \n",
      " 29  accommodates                                  5936 non-null   int64  \n",
      " 30  bathrooms                                     0 non-null      float64\n",
      " 31  bathrooms_text                                5917 non-null   object \n",
      " 32  bedrooms                                      4885 non-null   float64\n",
      " 33  beds                                          5838 non-null   float64\n",
      " 34  amenities                                     5936 non-null   object \n",
      " 35  price                                         5936 non-null   object \n",
      " 36  minimum_nights                                5936 non-null   int64  \n",
      " 37  maximum_nights                                5936 non-null   int64  \n",
      " 38  minimum_minimum_nights                        5935 non-null   float64\n",
      " 39  maximum_minimum_nights                        5935 non-null   float64\n",
      " 40  minimum_maximum_nights                        5935 non-null   float64\n",
      " 41  maximum_maximum_nights                        5935 non-null   float64\n",
      " 42  minimum_nights_avg_ntm                        5935 non-null   float64\n",
      " 43  maximum_nights_avg_ntm                        5935 non-null   float64\n",
      " 44  calendar_updated                              0 non-null      float64\n",
      " 45  has_availability                              5936 non-null   object \n",
      " 46  availability_30                               5936 non-null   int64  \n",
      " 47  availability_60                               5936 non-null   int64  \n",
      " 48  availability_90                               5936 non-null   int64  \n",
      " 49  availability_365                              5936 non-null   int64  \n",
      " 50  calendar_last_scraped                         5936 non-null   object \n",
      " 51  number_of_reviews                             5936 non-null   int64  \n",
      " 52  number_of_reviews_ltm                         5936 non-null   int64  \n",
      " 53  number_of_reviews_l30d                        5936 non-null   int64  \n",
      " 54  first_review                                  2730 non-null   object \n",
      " 55  last_review                                   2730 non-null   object \n",
      " 56  review_scores_rating                          2730 non-null   float64\n",
      " 57  review_scores_accuracy                        2697 non-null   float64\n",
      " 58  review_scores_cleanliness                     2697 non-null   float64\n",
      " 59  review_scores_checkin                         2697 non-null   float64\n",
      " 60  review_scores_communication                   2695 non-null   float64\n",
      " 61  review_scores_location                        2697 non-null   float64\n",
      " 62  review_scores_value                           2697 non-null   float64\n",
      " 63  license                                       0 non-null      float64\n",
      " 64  instant_bookable                              5936 non-null   object \n",
      " 65  calculated_host_listings_count                5936 non-null   int64  \n",
      " 66  calculated_host_listings_count_entire_homes   5936 non-null   int64  \n",
      " 67  calculated_host_listings_count_private_rooms  5936 non-null   int64  \n",
      " 68  calculated_host_listings_count_shared_rooms   5936 non-null   int64  \n",
      " 69  reviews_per_month                             2730 non-null   float64\n",
      "dtypes: float64(22), int64(19), object(29)\n",
      "memory usage: 3.2+ MB\n"
     ]
    },
    {
     "data": {
      "text/html": [
       "<div>\n",
       "<style scoped>\n",
       "    .dataframe tbody tr th:only-of-type {\n",
       "        vertical-align: middle;\n",
       "    }\n",
       "\n",
       "    .dataframe tbody tr th {\n",
       "        vertical-align: top;\n",
       "    }\n",
       "\n",
       "    .dataframe thead th {\n",
       "        text-align: right;\n",
       "    }\n",
       "</style>\n",
       "<table border=\"1\" class=\"dataframe\">\n",
       "  <thead>\n",
       "    <tr style=\"text-align: right;\">\n",
       "      <th></th>\n",
       "      <th>id</th>\n",
       "      <th>scrape_id</th>\n",
       "      <th>last_scraped</th>\n",
       "      <th>source</th>\n",
       "      <th>name</th>\n",
       "      <th>description</th>\n",
       "      <th>neighborhood_overview</th>\n",
       "      <th>host_id</th>\n",
       "      <th>host_name</th>\n",
       "      <th>host_since</th>\n",
       "      <th>...</th>\n",
       "      <th>review_scores_communication</th>\n",
       "      <th>review_scores_location</th>\n",
       "      <th>review_scores_value</th>\n",
       "      <th>license</th>\n",
       "      <th>instant_bookable</th>\n",
       "      <th>calculated_host_listings_count</th>\n",
       "      <th>calculated_host_listings_count_entire_homes</th>\n",
       "      <th>calculated_host_listings_count_private_rooms</th>\n",
       "      <th>calculated_host_listings_count_shared_rooms</th>\n",
       "      <th>reviews_per_month</th>\n",
       "    </tr>\n",
       "  </thead>\n",
       "  <tbody>\n",
       "    <tr>\n",
       "      <th>0</th>\n",
       "      <td>17891</td>\n",
       "      <td>20230324234127</td>\n",
       "      <td>2023-03-25</td>\n",
       "      <td>previous scrape</td>\n",
       "      <td>Large Light Filled Loft</td>\n",
       "      <td>Gorgeous and spacious loft, in the best locati...</td>\n",
       "      <td>Best neighborhood in Hong Kong! A mix of old a...</td>\n",
       "      <td>69063</td>\n",
       "      <td>Candace</td>\n",
       "      <td>2010-01-09</td>\n",
       "      <td>...</td>\n",
       "      <td>4.93</td>\n",
       "      <td>4.90</td>\n",
       "      <td>4.66</td>\n",
       "      <td>NaN</td>\n",
       "      <td>f</td>\n",
       "      <td>1</td>\n",
       "      <td>1</td>\n",
       "      <td>0</td>\n",
       "      <td>0</td>\n",
       "      <td>0.46</td>\n",
       "    </tr>\n",
       "    <tr>\n",
       "      <th>1</th>\n",
       "      <td>72571</td>\n",
       "      <td>20230324234127</td>\n",
       "      <td>2023-03-25</td>\n",
       "      <td>city scrape</td>\n",
       "      <td>SoHo off Hollywood Road 3A</td>\n",
       "      <td>This apartment is located in a traditional Hon...</td>\n",
       "      <td>NaN</td>\n",
       "      <td>304876</td>\n",
       "      <td>Brend</td>\n",
       "      <td>2010-11-30</td>\n",
       "      <td>...</td>\n",
       "      <td>4.51</td>\n",
       "      <td>4.73</td>\n",
       "      <td>4.13</td>\n",
       "      <td>NaN</td>\n",
       "      <td>f</td>\n",
       "      <td>10</td>\n",
       "      <td>6</td>\n",
       "      <td>4</td>\n",
       "      <td>0</td>\n",
       "      <td>1.03</td>\n",
       "    </tr>\n",
       "  </tbody>\n",
       "</table>\n",
       "<p>2 rows × 70 columns</p>\n",
       "</div>"
      ],
      "text/plain": [
       "      id       scrape_id last_scraped           source  \\\n",
       "0  17891  20230324234127   2023-03-25  previous scrape   \n",
       "1  72571  20230324234127   2023-03-25      city scrape   \n",
       "\n",
       "                         name  \\\n",
       "0     Large Light Filled Loft   \n",
       "1  SoHo off Hollywood Road 3A   \n",
       "\n",
       "                                         description  \\\n",
       "0  Gorgeous and spacious loft, in the best locati...   \n",
       "1  This apartment is located in a traditional Hon...   \n",
       "\n",
       "                               neighborhood_overview  host_id host_name  \\\n",
       "0  Best neighborhood in Hong Kong! A mix of old a...    69063   Candace   \n",
       "1                                                NaN   304876     Brend   \n",
       "\n",
       "   host_since  ... review_scores_communication review_scores_location  \\\n",
       "0  2010-01-09  ...                        4.93                   4.90   \n",
       "1  2010-11-30  ...                        4.51                   4.73   \n",
       "\n",
       "  review_scores_value license instant_bookable calculated_host_listings_count  \\\n",
       "0                4.66     NaN                f                              1   \n",
       "1                4.13     NaN                f                             10   \n",
       "\n",
       "  calculated_host_listings_count_entire_homes  \\\n",
       "0                                           1   \n",
       "1                                           6   \n",
       "\n",
       "   calculated_host_listings_count_private_rooms  \\\n",
       "0                                             0   \n",
       "1                                             4   \n",
       "\n",
       "   calculated_host_listings_count_shared_rooms reviews_per_month  \n",
       "0                                            0              0.46  \n",
       "1                                            0              1.03  \n",
       "\n",
       "[2 rows x 70 columns]"
      ]
     },
     "execution_count": 86,
     "metadata": {},
     "output_type": "execute_result"
    }
   ],
   "source": [
    "import numpy as np \n",
    "import pandas as pd \n",
    "import matplotlib.pyplot as plt\n",
    "import seaborn as sns\n",
    "from statsmodels import stats\n",
    "import scipy.stats as st\n",
    "from scipy.stats.mstats import kruskalwallis\n",
    "from scipy.stats import normaltest\n",
    "\n",
    "dat = pd.read_csv(\"./data/maininfo-listings.csv\")\n",
    "data = dat.drop(columns=['listing_url','picture_url','host_url','host_thumbnail_url','host_picture_url']) #1 8 10 12 19 20\n",
    "data.info()\n",
    "data.duplicated().sum()#No duplicated data\n",
    "data.head(2)\n",
    "#data.iloc[40,]"
   ]
  },
  {
   "attachments": {},
   "cell_type": "markdown",
   "metadata": {},
   "source": [
    "# 一、資料預處理\n",
    "我們先將資料進行預處理，將過多遺失值的變數進行刪除外，同時進行資料的轉換、遺失值的填補與刪除。"
   ]
  },
  {
   "attachments": {},
   "cell_type": "markdown",
   "metadata": {},
   "source": [
    "## 1. 刪除遺失值過多的變數"
   ]
  },
  {
   "attachments": {},
   "cell_type": "markdown",
   "metadata": {},
   "source": [
    "資料清理部分\n",
    "1. scrape_id 刪\n",
    "2. last_scraped 刪\n",
    "3. source 應該可刪\n",
    "4. 名字 需要修\n",
    "5. 描述 --> 可以做文字探勘\n",
    "6. neighborhood_overview --> 可以做文字探勘\n",
    "7. host id\n",
    "8. host_name\n",
    "9.  host_since\n",
    "10. host_location --> 應該可刪\n",
    "11. host自介  --> 可以做文字探勘\n",
    "12. 回覆時間\n",
    "13. 回覆率\n",
    "14. host_acceptance_rate\n",
    "15. host_is_superhost\n",
    "16. host_neighbourhood\n",
    "17. host_listings_count --> 應該可刪\n",
    "18. host_total_listings_count --> 應該可刪\n",
    "19. host_verifications 計算各認證的數量\n",
    "20. host_has_profile_pic (tf)\n",
    "21. host_identity_verified\n",
    "22. neighbourhood ==> 地點統一\n",
    "23. neighbourhood_cleansed 感覺是22的整理版\n",
    "24. 空 刪\n",
    "25. 緯度\n",
    "26. 經度\n",
    "27. property_type==> 感覺也需要再整理\n",
    "28. room_type\n",
    "29. accommodates : The maximum capacity of the listing\n",
    "30. 空 刪\n",
    "31. bathrooms_text ==> 文字與數字作分析\n",
    "32. bedrooms 數量\n",
    "33. beds 數量\n",
    "34. amenities 字串處理\n",
    "35. price 重要!!\n",
    "36. minimum_nights\n",
    "37. maximum_nights\n",
    "38. minimum_minimum_nights\n",
    "39. maximum_minimum_nights\n",
    "40. minimum_maximum_nights\n",
    "41. maximum_maximum_nights\n",
    "42. minimum_nights_avg_ntm\n",
    "43. maximum_nights_avg_ntm\n",
    "44. calendar_updated\n",
    "45. has_availability ==> 可刪\n",
    "46. availability_30 ==> 可刪\n",
    "47. availability_60 ==> 可刪\n",
    "48. availability_90 ==> 可刪\n",
    "49. availability_365 ==> 可刪\n",
    "50. calendar_last_scraped ==> 可刪\n",
    "51. number_of_reviews\n",
    "52. number_of_reviews_ltm\n",
    "53. number_of_reviews_l30d\n",
    "54. first_review\n",
    "55. last_review\n",
    "56. review_scores_rating\n",
    "57. review_scores_accuracy\n",
    "58. review_scores_cleanliness\n",
    "59. review_scores_checkin\n",
    "60. review_scores_communication\n",
    "61. review_scores_location\n",
    "62. review_scores_value\n",
    "63. license\n",
    "64. instant_bookable\n",
    "65. calculated_host_listings_count\n",
    "66. calculated_host_listings_count_entire_homes\n",
    "67. calculated_host_listings_count_private_rooms\n",
    "68. calculated_host_listings_count_shared_rooms\n",
    "69. reviews_per_month"
   ]
  },
  {
   "cell_type": "code",
   "execution_count": 87,
   "metadata": {},
   "outputs": [
    {
     "name": "stdout",
     "output_type": "stream",
     "text": [
      "0 : 0 id\n",
      "1 : 0 scrape_id\n",
      "2 : 0 last_scraped\n",
      "3 : 0 source\n",
      "4 : 0 name\n",
      "5 : 106 description\n",
      "6 : 4038 neighborhood_overview\n",
      "7 : 0 host_id\n",
      "8 : 0 host_name\n",
      "9 : 0 host_since\n",
      "10 : 1757 host_location\n",
      "11 : 2002 host_about\n",
      "12 : 516 host_response_time\n",
      "13 : 516 host_response_rate\n",
      "14 : 504 host_acceptance_rate\n",
      "15 : 1 host_is_superhost\n",
      "16 : 457 host_neighbourhood\n",
      "17 : 0 host_listings_count\n",
      "18 : 0 host_total_listings_count\n",
      "19 : 0 host_verifications\n",
      "20 : 0 host_has_profile_pic\n",
      "21 : 0 host_identity_verified\n",
      "22 : 4038 neighbourhood\n",
      "23 : 0 neighbourhood_cleansed\n",
      "24 : 5936 neighbourhood_group_cleansed\n",
      "25 : 0 latitude\n",
      "26 : 0 longitude\n",
      "27 : 0 property_type\n",
      "28 : 0 room_type\n",
      "29 : 0 accommodates\n",
      "30 : 5936 bathrooms\n",
      "31 : 19 bathrooms_text\n",
      "32 : 1051 bedrooms\n",
      "33 : 98 beds\n",
      "34 : 0 amenities\n",
      "35 : 0 price\n",
      "36 : 0 minimum_nights\n",
      "37 : 0 maximum_nights\n",
      "38 : 1 minimum_minimum_nights\n",
      "39 : 1 maximum_minimum_nights\n",
      "40 : 1 minimum_maximum_nights\n",
      "41 : 1 maximum_maximum_nights\n",
      "42 : 1 minimum_nights_avg_ntm\n",
      "43 : 1 maximum_nights_avg_ntm\n",
      "44 : 5936 calendar_updated\n",
      "45 : 0 has_availability\n",
      "46 : 0 availability_30\n",
      "47 : 0 availability_60\n",
      "48 : 0 availability_90\n",
      "49 : 0 availability_365\n",
      "50 : 0 calendar_last_scraped\n",
      "51 : 0 number_of_reviews\n",
      "52 : 0 number_of_reviews_ltm\n",
      "53 : 0 number_of_reviews_l30d\n",
      "54 : 3206 first_review\n",
      "55 : 3206 last_review\n",
      "56 : 3206 review_scores_rating\n",
      "57 : 3239 review_scores_accuracy\n",
      "58 : 3239 review_scores_cleanliness\n",
      "59 : 3239 review_scores_checkin\n",
      "60 : 3241 review_scores_communication\n",
      "61 : 3239 review_scores_location\n",
      "62 : 3239 review_scores_value\n",
      "63 : 5936 license\n",
      "64 : 0 instant_bookable\n",
      "65 : 0 calculated_host_listings_count\n",
      "66 : 0 calculated_host_listings_count_entire_homes\n",
      "67 : 0 calculated_host_listings_count_private_rooms\n",
      "68 : 0 calculated_host_listings_count_shared_rooms\n",
      "69 : 3206 reviews_per_month\n"
     ]
    }
   ],
   "source": [
    "#顯示遺失值數量\n",
    "for i in range(0,len(data.columns)):\n",
    "    print(i,':',data.iloc[:,i].isnull().sum(),data.columns[i])\n",
    "    \n",
    "#df.isnull().sum()"
   ]
  },
  {
   "cell_type": "code",
   "execution_count": 88,
   "metadata": {},
   "outputs": [
    {
     "name": "stdout",
     "output_type": "stream",
     "text": [
      "5 : 106 description\n",
      "6 : 4038 neighborhood_overview\n",
      "10 : 1757 host_location\n",
      "11 : 2002 host_about\n",
      "12 : 516 host_response_time\n",
      "13 : 516 host_response_rate\n",
      "14 : 504 host_acceptance_rate\n",
      "15 : 1 host_is_superhost\n",
      "16 : 457 host_neighbourhood\n",
      "22 : 4038 neighbourhood\n",
      "24 : 5936 neighbourhood_group_cleansed\n",
      "30 : 5936 bathrooms\n",
      "31 : 19 bathrooms_text\n",
      "32 : 1051 bedrooms\n",
      "33 : 98 beds\n",
      "38 : 1 minimum_minimum_nights\n",
      "39 : 1 maximum_minimum_nights\n",
      "40 : 1 minimum_maximum_nights\n",
      "41 : 1 maximum_maximum_nights\n",
      "42 : 1 minimum_nights_avg_ntm\n",
      "43 : 1 maximum_nights_avg_ntm\n",
      "44 : 5936 calendar_updated\n",
      "54 : 3206 first_review\n",
      "55 : 3206 last_review\n",
      "56 : 3206 review_scores_rating\n",
      "57 : 3239 review_scores_accuracy\n",
      "58 : 3239 review_scores_cleanliness\n",
      "59 : 3239 review_scores_checkin\n",
      "60 : 3241 review_scores_communication\n",
      "61 : 3239 review_scores_location\n",
      "62 : 3239 review_scores_value\n",
      "63 : 5936 license\n",
      "69 : 3206 reviews_per_month\n",
      "neighbourhood_cleansed\n",
      "Yau Tsim Mong             2114\n",
      "Wan Chai                  1278\n",
      "Central & Western         1094\n",
      "Islands                    324\n",
      "Kowloon City               245\n",
      "Eastern                    243\n",
      "Sham Shui Po               163\n",
      "Southern                   139\n",
      "Sai Kung                    95\n",
      "Yuen Long                   52\n",
      "Sha Tin                     42\n",
      "Tuen Mun                    36\n",
      "Tai Po                      29\n",
      "Kwun Tong                   28\n",
      "Tsuen Wan                   21\n",
      "Wong Tai Sin                16\n",
      "North                       13\n",
      "Kwai Tsing                   4\n",
      "dtype: int64\n"
     ]
    }
   ],
   "source": [
    "#超過6筆遺失值，直接刪掉該筆資料\n",
    "df = data\n",
    "df = df.dropna(thresh=6)\n",
    "\n",
    "#3 description :就當作沒有描述\n",
    "df.iloc[:,3] = df.iloc[:,3].fillna(value=' ')\n",
    "\n",
    "for i in range(0,len(df.columns)):\n",
    "    if df.iloc[:,i].isnull().sum() != 0:\n",
    "        print(i,':',df.iloc[:,i].isnull().sum(),df.columns[i])\n",
    "\n",
    "\n",
    "print(df.iloc[:,[23]].value_counts())"
   ]
  },
  {
   "attachments": {},
   "cell_type": "markdown",
   "metadata": {},
   "source": [
    "## 2.篩選變數\n",
    "這邊將變數進行第一次的篩選 選擇我們想要分析的變數。"
   ]
  },
  {
   "cell_type": "code",
   "execution_count": 89,
   "metadata": {},
   "outputs": [
    {
     "name": "stdout",
     "output_type": "stream",
     "text": [
      "0 : 0 id\n",
      "1 : 0 scrape_id\n",
      "2 : 0 last_scraped\n",
      "3 : 0 source\n",
      "4 : 0 name\n",
      "5 : 106 description\n",
      "6 : 4038 neighborhood_overview\n",
      "7 : 0 host_id\n",
      "8 : 0 host_name\n",
      "9 : 0 host_since\n",
      "10 : 1757 host_location\n",
      "11 : 2002 host_about\n",
      "12 : 516 host_response_time\n",
      "13 : 516 host_response_rate\n",
      "14 : 504 host_acceptance_rate\n",
      "15 : 1 host_is_superhost\n",
      "16 : 457 host_neighbourhood\n",
      "17 : 0 host_listings_count\n",
      "18 : 0 host_total_listings_count\n",
      "19 : 0 host_verifications\n",
      "20 : 0 host_has_profile_pic\n",
      "21 : 0 host_identity_verified\n",
      "22 : 4038 neighbourhood\n",
      "23 : 0 neighbourhood_cleansed\n",
      "24 : 5936 neighbourhood_group_cleansed\n",
      "25 : 0 latitude\n",
      "26 : 0 longitude\n",
      "27 : 0 property_type\n",
      "28 : 0 room_type\n",
      "29 : 0 accommodates\n",
      "30 : 5936 bathrooms\n",
      "31 : 19 bathrooms_text\n",
      "32 : 1051 bedrooms\n",
      "33 : 98 beds\n",
      "34 : 0 amenities\n",
      "35 : 0 price\n",
      "36 : 0 minimum_nights\n",
      "37 : 0 maximum_nights\n",
      "38 : 1 minimum_minimum_nights\n",
      "39 : 1 maximum_minimum_nights\n",
      "40 : 1 minimum_maximum_nights\n",
      "41 : 1 maximum_maximum_nights\n",
      "42 : 1 minimum_nights_avg_ntm\n",
      "43 : 1 maximum_nights_avg_ntm\n",
      "44 : 5936 calendar_updated\n",
      "45 : 0 has_availability\n",
      "46 : 0 availability_30\n",
      "47 : 0 availability_60\n",
      "48 : 0 availability_90\n",
      "49 : 0 availability_365\n",
      "50 : 0 calendar_last_scraped\n",
      "51 : 0 number_of_reviews\n",
      "52 : 0 number_of_reviews_ltm\n",
      "53 : 0 number_of_reviews_l30d\n",
      "54 : 3206 first_review\n",
      "55 : 3206 last_review\n",
      "56 : 3206 review_scores_rating\n",
      "57 : 3239 review_scores_accuracy\n",
      "58 : 3239 review_scores_cleanliness\n",
      "59 : 3239 review_scores_checkin\n",
      "60 : 3241 review_scores_communication\n",
      "61 : 3239 review_scores_location\n",
      "62 : 3239 review_scores_value\n",
      "63 : 5936 license\n",
      "64 : 0 instant_bookable\n",
      "65 : 0 calculated_host_listings_count\n",
      "66 : 0 calculated_host_listings_count_entire_homes\n",
      "67 : 0 calculated_host_listings_count_private_rooms\n",
      "68 : 0 calculated_host_listings_count_shared_rooms\n",
      "69 : 3206 reviews_per_month\n"
     ]
    }
   ],
   "source": [
    "for i in range(0,len(df.columns)):\n",
    "    print(i,':',df.iloc[:,i].isnull().sum(),data.columns[i])"
   ]
  },
  {
   "cell_type": "code",
   "execution_count": 90,
   "metadata": {},
   "outputs": [
    {
     "name": "stdout",
     "output_type": "stream",
     "text": [
      "<class 'pandas.core.frame.DataFrame'>\n",
      "RangeIndex: 5936 entries, 0 to 5935\n",
      "Data columns (total 26 columns):\n",
      " #   Column                  Non-Null Count  Dtype  \n",
      "---  ------                  --------------  -----  \n",
      " 0   id                      5936 non-null   int64  \n",
      " 1   name                    5936 non-null   object \n",
      " 2   host_id                 5936 non-null   int64  \n",
      " 3   host_name               5936 non-null   object \n",
      " 4   host_location           4179 non-null   object \n",
      " 5   host_response_time      5420 non-null   object \n",
      " 6   host_response_rate      5420 non-null   object \n",
      " 7   host_acceptance_rate    5432 non-null   object \n",
      " 8   host_is_superhost       5935 non-null   object \n",
      " 9   host_neighbourhood      5479 non-null   object \n",
      " 10  neighbourhood           1898 non-null   object \n",
      " 11  neighbourhood_cleansed  5936 non-null   object \n",
      " 12  property_type           5936 non-null   object \n",
      " 13  room_type               5936 non-null   object \n",
      " 14  accommodates            5936 non-null   int64  \n",
      " 15  bathrooms               0 non-null      float64\n",
      " 16  bathrooms_text          5917 non-null   object \n",
      " 17  bedrooms                4885 non-null   float64\n",
      " 18  beds                    5838 non-null   float64\n",
      " 19  amenities               5936 non-null   object \n",
      " 20  price                   5936 non-null   object \n",
      " 21  minimum_nights          5936 non-null   int64  \n",
      " 22  number_of_reviews       5936 non-null   int64  \n",
      " 23  number_of_reviews_ltm   5936 non-null   int64  \n",
      " 24  number_of_reviews_l30d  5936 non-null   int64  \n",
      " 25  review_scores_rating    2730 non-null   float64\n",
      "dtypes: float64(4), int64(7), object(15)\n",
      "memory usage: 1.2+ MB\n"
     ]
    }
   ],
   "source": [
    "# 篩選用得到的變數\n",
    "df1 = df.iloc[:,[0,4,7,8,10,12,13,14,15,16,22,23,27,28,29,30,31,32,33,34,35,36,51,52,53,56]]\n",
    "df1.info()"
   ]
  },
  {
   "attachments": {},
   "cell_type": "markdown",
   "metadata": {},
   "source": [
    "## 3.變數整理\n",
    "我們將變數進行整理，如資料型態轉換、填補遺失值等等。"
   ]
  },
  {
   "attachments": {},
   "cell_type": "markdown",
   "metadata": {},
   "source": [
    "### host_location\n",
    "將在香港設為1，其他設為0"
   ]
  },
  {
   "cell_type": "code",
   "execution_count": 91,
   "metadata": {},
   "outputs": [
    {
     "data": {
      "text/plain": [
       "Hong Kong                      3462\n",
       "Kowloon, Hong Kong              289\n",
       "Hong Kong Island, Hong Kong     146\n",
       "New Territories, Hong Kong       67\n",
       "London, United Kingdom           24\n",
       "                               ... \n",
       "Bilbao, Spain                     1\n",
       "Antwerp, Belgium                  1\n",
       "Madrid, Spain                     1\n",
       "Seoul, South Korea                1\n",
       "Montreal, Canada                  1\n",
       "Name: host_location, Length: 84, dtype: int64"
      ]
     },
     "execution_count": 91,
     "metadata": {},
     "output_type": "execute_result"
    }
   ],
   "source": [
    "df1.iloc[:,4].value_counts()"
   ]
  },
  {
   "cell_type": "code",
   "execution_count": 92,
   "metadata": {},
   "outputs": [
    {
     "name": "stderr",
     "output_type": "stream",
     "text": [
      "C:\\Users\\user\\AppData\\Local\\Temp\\ipykernel_33736\\3216321835.py:1: SettingWithCopyWarning: \n",
      "A value is trying to be set on a copy of a slice from a DataFrame.\n",
      "Try using .loc[row_indexer,col_indexer] = value instead\n",
      "\n",
      "See the caveats in the documentation: https://pandas.pydata.org/pandas-docs/stable/user_guide/indexing.html#returning-a-view-versus-a-copy\n",
      "  df1.iloc[:,4] = df1.iloc[:,4].str.contains('Hong Kong')\n",
      "C:\\Users\\user\\AppData\\Local\\Temp\\ipykernel_33736\\3216321835.py:2: SettingWithCopyWarning: \n",
      "A value is trying to be set on a copy of a slice from a DataFrame.\n",
      "Try using .loc[row_indexer,col_indexer] = value instead\n",
      "\n",
      "See the caveats in the documentation: https://pandas.pydata.org/pandas-docs/stable/user_guide/indexing.html#returning-a-view-versus-a-copy\n",
      "  df1.iloc[:,4] = df1.iloc[:,4].fillna(value=False).replace({True: 1, False: 0})\n"
     ]
    },
    {
     "data": {
      "text/plain": [
       "0"
      ]
     },
     "execution_count": 92,
     "metadata": {},
     "output_type": "execute_result"
    }
   ],
   "source": [
    "df1.iloc[:,4] = df1.iloc[:,4].str.contains('Hong Kong')\n",
    "df1.iloc[:,4] = df1.iloc[:,4].fillna(value=False).replace({True: 1, False: 0})\n",
    "df1.iloc[:,4].value_counts()\n",
    "df1.iloc[:,4].isnull().sum()\n",
    "#pd.get_dummies(df1['host_location'])"
   ]
  },
  {
   "attachments": {},
   "cell_type": "markdown",
   "metadata": {},
   "source": [
    "### host_response_time\n",
    "由於這部分可以照回覆時間長短做排序，故我們將以label encoding做分類。</P>\n",
    "同時將遺失的資料當作「沒有回覆」，但我們將這些沒有回覆的資料歸類至「a few days or more 」。"
   ]
  },
  {
   "cell_type": "code",
   "execution_count": 93,
   "metadata": {},
   "outputs": [
    {
     "data": {
      "text/plain": [
       "within an hour        2477\n",
       "within a few hours    2345\n",
       "within a day           465\n",
       "a few days or more     133\n",
       "Name: host_response_time, dtype: int64"
      ]
     },
     "execution_count": 93,
     "metadata": {},
     "output_type": "execute_result"
    }
   ],
   "source": [
    "df1.iloc[:,5].value_counts()"
   ]
  },
  {
   "cell_type": "code",
   "execution_count": 94,
   "metadata": {},
   "outputs": [
    {
     "name": "stderr",
     "output_type": "stream",
     "text": [
      "C:\\Users\\user\\AppData\\Local\\Temp\\ipykernel_33736\\461927311.py:1: SettingWithCopyWarning: \n",
      "A value is trying to be set on a copy of a slice from a DataFrame.\n",
      "Try using .loc[row_indexer,col_indexer] = value instead\n",
      "\n",
      "See the caveats in the documentation: https://pandas.pydata.org/pandas-docs/stable/user_guide/indexing.html#returning-a-view-versus-a-copy\n",
      "  df1.iloc[:,5] = df1.iloc[:,5].fillna(value='a few days or more')\n",
      "C:\\Users\\user\\AppData\\Local\\Temp\\ipykernel_33736\\461927311.py:2: SettingWithCopyWarning: \n",
      "A value is trying to be set on a copy of a slice from a DataFrame.\n",
      "Try using .loc[row_indexer,col_indexer] = value instead\n",
      "\n",
      "See the caveats in the documentation: https://pandas.pydata.org/pandas-docs/stable/user_guide/indexing.html#returning-a-view-versus-a-copy\n",
      "  df1.iloc[:,5]=df1.iloc[:,5].map({'within an hour': 0, 'within a few hours': 1,'within a day':2,'a few days or more':3})\n"
     ]
    }
   ],
   "source": [
    "df1.iloc[:,5] = df1.iloc[:,5].fillna(value='a few days or more')\n",
    "df1.iloc[:,5]=df1.iloc[:,5].map({'within an hour': 0, 'within a few hours': 1,'within a day':2,'a few days or more':3})"
   ]
  },
  {
   "attachments": {},
   "cell_type": "markdown",
   "metadata": {},
   "source": [
    "### host_response_rate\n",
    "NA值設為0，就當作沒有回覆了。"
   ]
  },
  {
   "cell_type": "code",
   "execution_count": 95,
   "metadata": {},
   "outputs": [
    {
     "name": "stderr",
     "output_type": "stream",
     "text": [
      "C:\\Users\\user\\AppData\\Local\\Temp\\ipykernel_33736\\3910369493.py:1: SettingWithCopyWarning: \n",
      "A value is trying to be set on a copy of a slice from a DataFrame.\n",
      "Try using .loc[row_indexer,col_indexer] = value instead\n",
      "\n",
      "See the caveats in the documentation: https://pandas.pydata.org/pandas-docs/stable/user_guide/indexing.html#returning-a-view-versus-a-copy\n",
      "  df1.iloc[:,6] = df1.iloc[:,6].fillna(value='0%')\n"
     ]
    }
   ],
   "source": [
    "df1.iloc[:,6] = df1.iloc[:,6].fillna(value='0%')"
   ]
  },
  {
   "cell_type": "code",
   "execution_count": 96,
   "metadata": {},
   "outputs": [
    {
     "name": "stderr",
     "output_type": "stream",
     "text": [
      "C:\\Users\\user\\AppData\\Local\\Temp\\ipykernel_33736\\723367152.py:1: SettingWithCopyWarning: \n",
      "A value is trying to be set on a copy of a slice from a DataFrame.\n",
      "Try using .loc[row_indexer,col_indexer] = value instead\n",
      "\n",
      "See the caveats in the documentation: https://pandas.pydata.org/pandas-docs/stable/user_guide/indexing.html#returning-a-view-versus-a-copy\n",
      "  df1.iloc[:,6] = df1.iloc[:,6].str.replace('%','')\n",
      "C:\\Users\\user\\AppData\\Local\\Temp\\ipykernel_33736\\723367152.py:2: SettingWithCopyWarning: \n",
      "A value is trying to be set on a copy of a slice from a DataFrame.\n",
      "Try using .loc[row_indexer,col_indexer] = value instead\n",
      "\n",
      "See the caveats in the documentation: https://pandas.pydata.org/pandas-docs/stable/user_guide/indexing.html#returning-a-view-versus-a-copy\n",
      "  df1['host_response_rate'] = df1['host_response_rate'].astype(int)\n"
     ]
    },
    {
     "data": {
      "text/plain": [
       "0     0\n",
       "1    96\n",
       "2    96\n",
       "3     0\n",
       "4    96\n",
       "Name: host_response_rate, dtype: int32"
      ]
     },
     "execution_count": 96,
     "metadata": {},
     "output_type": "execute_result"
    }
   ],
   "source": [
    "df1.iloc[:,6] = df1.iloc[:,6].str.replace('%','')\n",
    "df1['host_response_rate'] = df1['host_response_rate'].astype(int)\n",
    "df1.iloc[:,6].head()"
   ]
  },
  {
   "attachments": {},
   "cell_type": "markdown",
   "metadata": {},
   "source": [
    "### host_acceptance_rate"
   ]
  },
  {
   "cell_type": "code",
   "execution_count": 97,
   "metadata": {},
   "outputs": [
    {
     "name": "stderr",
     "output_type": "stream",
     "text": [
      "C:\\Users\\user\\AppData\\Local\\Temp\\ipykernel_33736\\3509690089.py:1: SettingWithCopyWarning: \n",
      "A value is trying to be set on a copy of a slice from a DataFrame.\n",
      "Try using .loc[row_indexer,col_indexer] = value instead\n",
      "\n",
      "See the caveats in the documentation: https://pandas.pydata.org/pandas-docs/stable/user_guide/indexing.html#returning-a-view-versus-a-copy\n",
      "  df1['host_acceptance_rate'] = df1['host_acceptance_rate'].str.replace('%','')\n",
      "C:\\Users\\user\\AppData\\Local\\Temp\\ipykernel_33736\\3509690089.py:2: SettingWithCopyWarning: \n",
      "A value is trying to be set on a copy of a slice from a DataFrame.\n",
      "Try using .loc[row_indexer,col_indexer] = value instead\n",
      "\n",
      "See the caveats in the documentation: https://pandas.pydata.org/pandas-docs/stable/user_guide/indexing.html#returning-a-view-versus-a-copy\n",
      "  df1['host_acceptance_rate'] = pd.to_numeric(df1['host_acceptance_rate'])\n"
     ]
    }
   ],
   "source": [
    "df1['host_acceptance_rate'] = df1['host_acceptance_rate'].str.replace('%','')\n",
    "df1['host_acceptance_rate'] = pd.to_numeric(df1['host_acceptance_rate'])"
   ]
  },
  {
   "attachments": {},
   "cell_type": "markdown",
   "metadata": {},
   "source": [
    "### host_is_superhost\n",
    "這部分資料為Boolean，故將True,False以0與1做表示。"
   ]
  },
  {
   "cell_type": "code",
   "execution_count": 98,
   "metadata": {},
   "outputs": [
    {
     "name": "stderr",
     "output_type": "stream",
     "text": [
      "C:\\Users\\user\\AppData\\Local\\Temp\\ipykernel_33736\\3789273160.py:1: SettingWithCopyWarning: \n",
      "A value is trying to be set on a copy of a slice from a DataFrame.\n",
      "Try using .loc[row_indexer,col_indexer] = value instead\n",
      "\n",
      "See the caveats in the documentation: https://pandas.pydata.org/pandas-docs/stable/user_guide/indexing.html#returning-a-view-versus-a-copy\n",
      "  df1['host_is_superhost']=df1['host_is_superhost'].map({'t':1,'f':0})\n"
     ]
    }
   ],
   "source": [
    "df1['host_is_superhost']=df1['host_is_superhost'].map({'t':1,'f':0})"
   ]
  },
  {
   "cell_type": "code",
   "execution_count": 99,
   "metadata": {},
   "outputs": [
    {
     "data": {
      "text/plain": [
       "1"
      ]
     },
     "execution_count": 99,
     "metadata": {},
     "output_type": "execute_result"
    }
   ],
   "source": [
    "df1['host_is_superhost'].isnull().sum()\n",
    "#delete data"
   ]
  },
  {
   "attachments": {},
   "cell_type": "markdown",
   "metadata": {},
   "source": [
    "### Price\n",
    "Price因為有 '$' ，因此在資料形態上會是string而非數值資料。故需要將 '$' 刪除。"
   ]
  },
  {
   "cell_type": "code",
   "execution_count": 100,
   "metadata": {},
   "outputs": [
    {
     "name": "stderr",
     "output_type": "stream",
     "text": [
      "C:\\Users\\user\\AppData\\Local\\Temp\\ipykernel_33736\\3422651767.py:1: FutureWarning: The default value of regex will change from True to False in a future version. In addition, single character regular expressions will *not* be treated as literal strings when regex=True.\n",
      "  df1['price'] = df1['price'].str.replace('$','')\n",
      "C:\\Users\\user\\AppData\\Local\\Temp\\ipykernel_33736\\3422651767.py:1: SettingWithCopyWarning: \n",
      "A value is trying to be set on a copy of a slice from a DataFrame.\n",
      "Try using .loc[row_indexer,col_indexer] = value instead\n",
      "\n",
      "See the caveats in the documentation: https://pandas.pydata.org/pandas-docs/stable/user_guide/indexing.html#returning-a-view-versus-a-copy\n",
      "  df1['price'] = df1['price'].str.replace('$','')\n",
      "C:\\Users\\user\\AppData\\Local\\Temp\\ipykernel_33736\\3422651767.py:2: SettingWithCopyWarning: \n",
      "A value is trying to be set on a copy of a slice from a DataFrame.\n",
      "Try using .loc[row_indexer,col_indexer] = value instead\n",
      "\n",
      "See the caveats in the documentation: https://pandas.pydata.org/pandas-docs/stable/user_guide/indexing.html#returning-a-view-versus-a-copy\n",
      "  df1['price'] = df1['price'].str.replace(',','')\n",
      "C:\\Users\\user\\AppData\\Local\\Temp\\ipykernel_33736\\3422651767.py:3: SettingWithCopyWarning: \n",
      "A value is trying to be set on a copy of a slice from a DataFrame.\n",
      "Try using .loc[row_indexer,col_indexer] = value instead\n",
      "\n",
      "See the caveats in the documentation: https://pandas.pydata.org/pandas-docs/stable/user_guide/indexing.html#returning-a-view-versus-a-copy\n",
      "  df1['price'] = pd.to_numeric(df1['price'])\n"
     ]
    }
   ],
   "source": [
    "df1['price'] = df1['price'].str.replace('$','')\n",
    "df1['price'] = df1['price'].str.replace(',','')\n",
    "df1['price'] = pd.to_numeric(df1['price'])\n"
   ]
  },
  {
   "cell_type": "code",
   "execution_count": 101,
   "metadata": {},
   "outputs": [
    {
     "data": {
      "text/html": [
       "<div>\n",
       "<style scoped>\n",
       "    .dataframe tbody tr th:only-of-type {\n",
       "        vertical-align: middle;\n",
       "    }\n",
       "\n",
       "    .dataframe tbody tr th {\n",
       "        vertical-align: top;\n",
       "    }\n",
       "\n",
       "    .dataframe thead th {\n",
       "        text-align: right;\n",
       "    }\n",
       "</style>\n",
       "<table border=\"1\" class=\"dataframe\">\n",
       "  <thead>\n",
       "    <tr style=\"text-align: right;\">\n",
       "      <th></th>\n",
       "      <th>id</th>\n",
       "      <th>name</th>\n",
       "      <th>host_id</th>\n",
       "      <th>host_name</th>\n",
       "      <th>host_location</th>\n",
       "      <th>host_response_time</th>\n",
       "      <th>host_response_rate</th>\n",
       "      <th>host_acceptance_rate</th>\n",
       "      <th>host_is_superhost</th>\n",
       "      <th>host_neighbourhood</th>\n",
       "      <th>...</th>\n",
       "      <th>bathrooms_text</th>\n",
       "      <th>bedrooms</th>\n",
       "      <th>beds</th>\n",
       "      <th>amenities</th>\n",
       "      <th>price</th>\n",
       "      <th>minimum_nights</th>\n",
       "      <th>number_of_reviews</th>\n",
       "      <th>number_of_reviews_ltm</th>\n",
       "      <th>number_of_reviews_l30d</th>\n",
       "      <th>review_scores_rating</th>\n",
       "    </tr>\n",
       "  </thead>\n",
       "  <tbody>\n",
       "    <tr>\n",
       "      <th>3952</th>\n",
       "      <td>48001907</td>\n",
       "      <td>Hotel ICON</td>\n",
       "      <td>386960723</td>\n",
       "      <td>Ken</td>\n",
       "      <td>0</td>\n",
       "      <td>3</td>\n",
       "      <td>0</td>\n",
       "      <td>100.0</td>\n",
       "      <td>NaN</td>\n",
       "      <td>Tsim Sha Tsui</td>\n",
       "      <td>...</td>\n",
       "      <td>NaN</td>\n",
       "      <td>NaN</td>\n",
       "      <td>NaN</td>\n",
       "      <td>[\"Heated pool with poolside bar \\u2014 outdoor...</td>\n",
       "      <td>0.0</td>\n",
       "      <td>1</td>\n",
       "      <td>6</td>\n",
       "      <td>2</td>\n",
       "      <td>0</td>\n",
       "      <td>3.83</td>\n",
       "    </tr>\n",
       "  </tbody>\n",
       "</table>\n",
       "<p>1 rows × 26 columns</p>\n",
       "</div>"
      ],
      "text/plain": [
       "            id        name    host_id host_name  host_location  \\\n",
       "3952  48001907  Hotel ICON  386960723       Ken              0   \n",
       "\n",
       "      host_response_time  host_response_rate  host_acceptance_rate  \\\n",
       "3952                   3                   0                 100.0   \n",
       "\n",
       "      host_is_superhost host_neighbourhood  ... bathrooms_text bedrooms beds  \\\n",
       "3952                NaN      Tsim Sha Tsui  ...            NaN      NaN  NaN   \n",
       "\n",
       "                                              amenities  price  \\\n",
       "3952  [\"Heated pool with poolside bar \\u2014 outdoor...    0.0   \n",
       "\n",
       "      minimum_nights number_of_reviews  number_of_reviews_ltm  \\\n",
       "3952               1                 6                      2   \n",
       "\n",
       "      number_of_reviews_l30d review_scores_rating  \n",
       "3952                       0                 3.83  \n",
       "\n",
       "[1 rows x 26 columns]"
      ]
     },
     "execution_count": 101,
     "metadata": {},
     "output_type": "execute_result"
    }
   ],
   "source": [
    "df1[df1['price'] == 0]"
   ]
  },
  {
   "attachments": {},
   "cell_type": "markdown",
   "metadata": {},
   "source": [
    "### neighbourhood_cleansed\n",
    "我們使用Target Encoding!!只是把平均改成計數</P>\n",
    "https://axk51013.medium.com/%E4%B8%8D%E8%A6%81%E5%86%8D%E5%81%9Aone-hot-encoding-b5126d3f8a63</P>\n",
    "https://medium.com/@seikimaii_Huang/%E6%A9%9F%E5%99%A8%E5%AD%B8%E7%BF%92%E7%AD%86%E8%A8%98-target-encoding-1b585d8ee8ab"
   ]
  },
  {
   "cell_type": "code",
   "execution_count": 102,
   "metadata": {},
   "outputs": [
    {
     "name": "stdout",
     "output_type": "stream",
     "text": [
      "Hong Kong, Hong Kong Island, Hong Kong            672\n",
      "Hong Kong, Kowloon, Hong Kong                     611\n",
      "Hong Kong, New Territories, Hong Kong             173\n",
      "Kowloon, Hong Kong                                 41\n",
      "Hong Kong, Hong Kong                               41\n",
      "                                                 ... \n",
      "Hong Kong, Hong Kong, kowloon, Hong Kong            1\n",
      "Hong Kong, Monkok, Hong Kong                        1\n",
      "Midlevels , Hong Kong Island, Hong Kong             1\n",
      "Tsim Sha Tsui District 尖沙咀, Kowloon, Hong Kong      1\n",
      "Causeway bay, Hong Kong Island, Hong Kong           1\n",
      "Name: neighbourhood, Length: 155, dtype: int64\n"
     ]
    },
    {
     "data": {
      "text/plain": [
       "<AxesSubplot:xlabel='neighbourhood_cleansed', ylabel='price'>"
      ]
     },
     "execution_count": 102,
     "metadata": {},
     "output_type": "execute_result"
    },
    {
     "data": {
      "image/png": "[encoded data removed]",
      "text/plain": [
       "<Figure size 1440x288 with 1 Axes>"
      ]
     },
     "metadata": {},
     "output_type": "display_data"
    }
   ],
   "source": [
    "df1.iloc[:,10].isnull().sum()#0\n",
    "print(df1.iloc[:,10].value_counts())\n",
    "plt.figure(figsize=(20, 4))\n",
    "sns.barplot(x = 'neighbourhood_cleansed', y = 'price', data = df1)\n",
    "#df1.loc['nc_te']\n"
   ]
  },
  {
   "cell_type": "code",
   "execution_count": 103,
   "metadata": {},
   "outputs": [
    {
     "data": {
      "text/plain": [
       "<matplotlib.pyplot._IoffContext at 0x1fb42493c70>"
      ]
     },
     "execution_count": 103,
     "metadata": {},
     "output_type": "execute_result"
    },
    {
     "data": {
      "image/png": "[encoded data removed]",
      "text/plain": [
       "<Figure size 1080x648 with 1 Axes>"
      ]
     },
     "metadata": {},
     "output_type": "display_data"
    }
   ],
   "source": [
    "#先畫個圖看看 確定是地區ㄌ\n",
    "plt.figure(figsize=(15,9))\n",
    "map = sns.scatterplot(data = df,x='longitude',y='latitude',hue='room_type')#room_type   neighbourhood_cleansed\n",
    "plt.ioff()"
   ]
  },
  {
   "cell_type": "code",
   "execution_count": 104,
   "metadata": {},
   "outputs": [
    {
     "data": {
      "text/plain": [
       "<matplotlib.pyplot._IoffContext at 0x1fb42193be0>"
      ]
     },
     "execution_count": 104,
     "metadata": {},
     "output_type": "execute_result"
    },
    {
     "data": {
      "image/png": "[encoded data removed]",
      "text/plain": [
       "<Figure size 1080x648 with 1 Axes>"
      ]
     },
     "metadata": {},
     "output_type": "display_data"
    }
   ],
   "source": [
    "#先畫個圖看看 確定是地區ㄌ\n",
    "plt.figure(figsize=(15,9))\n",
    "map = sns.scatterplot(data = df,x='longitude',y='latitude',hue='neighbourhood_cleansed')#room_type   neighbourhood_cleansed\n",
    "plt.ioff()"
   ]
  },
  {
   "attachments": {},
   "cell_type": "markdown",
   "metadata": {},
   "source": [
    "因為有些離群值太大，因此好像不太適合用Target Encoding"
   ]
  },
  {
   "cell_type": "code",
   "execution_count": 106,
   "metadata": {},
   "outputs": [
    {
     "name": "stderr",
     "output_type": "stream",
     "text": [
      "C:\\Users\\user\\AppData\\Local\\Temp\\ipykernel_33736\\2263419207.py:1: SettingWithCopyWarning: \n",
      "A value is trying to be set on a copy of a slice from a DataFrame.\n",
      "Try using .loc[row_indexer,col_indexer] = value instead\n",
      "\n",
      "See the caveats in the documentation: https://pandas.pydata.org/pandas-docs/stable/user_guide/indexing.html#returning-a-view-versus-a-copy\n",
      "  df1['nc_te'] = df1.groupby('neighbourhood_cleansed')['price'].transform('count')\n"
     ]
    }
   ],
   "source": [
    "df1['nc_te'] = df1.groupby('neighbourhood_cleansed')['price'].transform('count')"
   ]
  },
  {
   "cell_type": "code",
   "execution_count": 107,
   "metadata": {},
   "outputs": [
    {
     "data": {
      "text/plain": [
       "0       1094\n",
       "1       1094\n",
       "2       1094\n",
       "3       1094\n",
       "4       1094\n",
       "        ... \n",
       "5931    2114\n",
       "5932      29\n",
       "5933      36\n",
       "5934    1094\n",
       "5935    2114\n",
       "Name: nc_te, Length: 5936, dtype: int64"
      ]
     },
     "execution_count": 107,
     "metadata": {},
     "output_type": "execute_result"
    }
   ],
   "source": [
    "df1['nc_te']"
   ]
  },
  {
   "attachments": {},
   "cell_type": "markdown",
   "metadata": {},
   "source": [
    "### property_type\n",
    "One-Hot"
   ]
  },
  {
   "cell_type": "code",
   "execution_count": 108,
   "metadata": {},
   "outputs": [
    {
     "name": "stdout",
     "output_type": "stream",
     "text": [
      "Yau Tsim Mong        2114\n",
      "Wan Chai             1278\n",
      "Central & Western    1094\n",
      "Islands               324\n",
      "Kowloon City          245\n",
      "Eastern               243\n",
      "Sham Shui Po          163\n",
      "Southern              139\n",
      "Sai Kung               95\n",
      "Yuen Long              52\n",
      "Sha Tin                42\n",
      "Tuen Mun               36\n",
      "Tai Po                 29\n",
      "Kwun Tong              28\n",
      "Tsuen Wan              21\n",
      "Wong Tai Sin           16\n",
      "North                  13\n",
      "Kwai Tsing              4\n",
      "Name: neighbourhood_cleansed, dtype: int64\n"
     ]
    },
    {
     "name": "stderr",
     "output_type": "stream",
     "text": [
      "C:\\Users\\user\\AppData\\Local\\Temp\\ipykernel_33736\\3205015703.py:4: SettingWithCopyWarning: \n",
      "A value is trying to be set on a copy of a slice from a DataFrame.\n",
      "Try using .loc[row_indexer,col_indexer] = value instead\n",
      "\n",
      "See the caveats in the documentation: https://pandas.pydata.org/pandas-docs/stable/user_guide/indexing.html#returning-a-view-versus-a-copy\n",
      "  df1.iloc[:,11] = df1.iloc[:,11].str[0:6].replace('Privat','Private').replace('Room i','Room').replace(other_value,'Other')\n"
     ]
    }
   ],
   "source": [
    "df1.iloc[:,11].isnull().sum()#0\n",
    "print(df1.iloc[:,11].value_counts().head(30))\n",
    "other_value = ['Houseb','Boat','Tiny h','Campsi','Pensio','Tent','Hut','Religi','Farm s','Dome','Barn']\n",
    "df1.iloc[:,11] = df1.iloc[:,11].str[0:6].replace('Privat','Private').replace('Room i','Room').replace(other_value,'Other')\n",
    "\n",
    "#plt.figure(figsize=(20, 4))\n",
    "#sns.histplot(df1['property_type'],color = 'b')"
   ]
  },
  {
   "cell_type": "code",
   "execution_count": 109,
   "metadata": {},
   "outputs": [],
   "source": [
    "dummy = pd.get_dummies(df1.iloc[:,11])\n",
    "df1 = df1.join(dummy)"
   ]
  },
  {
   "attachments": {},
   "cell_type": "markdown",
   "metadata": {},
   "source": [
    "### room_type\n",
    "One Hot Encoding"
   ]
  },
  {
   "cell_type": "code",
   "execution_count": 110,
   "metadata": {},
   "outputs": [
    {
     "name": "stdout",
     "output_type": "stream",
     "text": [
      "Private room in rental unit    2434\n",
      "Entire rental unit             1425\n",
      "Entire condo                    367\n",
      "Entire serviced apartment       228\n",
      "Shared room in rental unit      222\n",
      "                               ... \n",
      "Shared room in farm stay          1\n",
      "Religious building                1\n",
      "Hut                               1\n",
      "Private room in boat              1\n",
      "Private room in farm stay         1\n",
      "Name: property_type, Length: 69, dtype: int64\n"
     ]
    },
    {
     "data": {
      "text/plain": [
       "<AxesSubplot:xlabel='room_type', ylabel='price'>"
      ]
     },
     "execution_count": 110,
     "metadata": {},
     "output_type": "execute_result"
    },
    {
     "data": {
      "image/png": "[encoded data removed]",
      "text/plain": [
       "<Figure size 1440x288 with 1 Axes>"
      ]
     },
     "metadata": {},
     "output_type": "display_data"
    }
   ],
   "source": [
    "df1.iloc[:,12].isnull().sum()#0\n",
    "print(df1.iloc[:,12].value_counts())\n",
    "plt.figure(figsize=(20, 4))\n",
    "sns.barplot(x = 'room_type', y = 'price', data = df1)\n"
   ]
  },
  {
   "cell_type": "code",
   "execution_count": 111,
   "metadata": {},
   "outputs": [],
   "source": [
    "dummy = pd.get_dummies(df1.iloc[:,12])\n",
    "df1 = df1.join(dummy)"
   ]
  },
  {
   "attachments": {},
   "cell_type": "markdown",
   "metadata": {},
   "source": [
    "### bathrooms_text"
   ]
  },
  {
   "cell_type": "code",
   "execution_count": 112,
   "metadata": {},
   "outputs": [
    {
     "name": "stderr",
     "output_type": "stream",
     "text": [
      "C:\\Users\\user\\AppData\\Local\\Temp\\ipykernel_33736\\3203056762.py:4: FutureWarning: The default value of regex will change from True to False in a future version.\n",
      "  df1['bathrooms_text'] = df1['bathrooms_text'].str.replace(r'[a-z]','').str.replace(r'[A-Z]','').str.replace(' ','').str.replace('-','0.5')\n"
     ]
    },
    {
     "data": {
      "text/plain": [
       "1      4930\n",
       "2       478\n",
       "1.5     270\n",
       "3        76\n",
       "4        41\n",
       "0.5      35\n",
       "0        29\n",
       "2.5      24\n",
       "3.5       8\n",
       "8         7\n",
       "5         7\n",
       "6         4\n",
       "10        3\n",
       "4.5       2\n",
       "9         1\n",
       "6.5       1\n",
       "5.5       1\n",
       "Name: bathrooms_text, dtype: int64"
      ]
     },
     "execution_count": 112,
     "metadata": {},
     "output_type": "execute_result"
    }
   ],
   "source": [
    "#df1.iloc[:,15].isnull().sum()#19\n",
    "#print(df1.iloc[:,15].value_counts())\n",
    "\n",
    "df1['bathrooms_text'] = df1['bathrooms_text'].str.replace(r'[a-z]','').str.replace(r'[A-Z]','').str.replace(' ','').str.replace('-','0.5')\n",
    "df1['bathrooms_text'].value_counts()"
   ]
  },
  {
   "attachments": {},
   "cell_type": "markdown",
   "metadata": {},
   "source": [
    "### bedrooms\n",
    "遺失值用0"
   ]
  },
  {
   "cell_type": "code",
   "execution_count": 113,
   "metadata": {},
   "outputs": [
    {
     "data": {
      "text/plain": [
       "1.0     4002\n",
       "0.0     1051\n",
       "2.0      520\n",
       "3.0      249\n",
       "4.0       62\n",
       "5.0       22\n",
       "6.0       21\n",
       "10.0       4\n",
       "8.0        2\n",
       "11.0       1\n",
       "50.0       1\n",
       "9.0        1\n",
       "Name: bedrooms, dtype: int64"
      ]
     },
     "execution_count": 113,
     "metadata": {},
     "output_type": "execute_result"
    }
   ],
   "source": [
    "df1['bedrooms'].isnull().sum()#1051\n",
    "df1['bedrooms'] = df1['bedrooms'].fillna(value=0)\n",
    "df1['bedrooms'].value_counts()\n"
   ]
  },
  {
   "attachments": {},
   "cell_type": "markdown",
   "metadata": {},
   "source": [
    "### beds\n",
    "遺失值用KNN 或 直接放棄(直接這樣了)\n",
    "1. 11\n",
    "2. 12\n",
    "3. 10\n",
    "4. 74\n",
    "5. 71\n",
    "6. 19\n",
    "7. 20"
   ]
  },
  {
   "cell_type": "code",
   "execution_count": 114,
   "metadata": {},
   "outputs": [
    {
     "data": {
      "text/plain": [
       "1.0     4179\n",
       "2.0      976\n",
       "3.0      311\n",
       "4.0      178\n",
       "5.0       61\n",
       "8.0       42\n",
       "6.0       41\n",
       "7.0       17\n",
       "9.0       11\n",
       "10.0      10\n",
       "16.0       5\n",
       "11.0       3\n",
       "14.0       1\n",
       "15.0       1\n",
       "12.0       1\n",
       "50.0       1\n",
       "Name: beds, dtype: int64"
      ]
     },
     "execution_count": 114,
     "metadata": {},
     "output_type": "execute_result"
    }
   ],
   "source": [
    "df1['beds'].isnull().sum()#98\n",
    "df1['beds'].value_counts()"
   ]
  },
  {
   "attachments": {},
   "cell_type": "markdown",
   "metadata": {},
   "source": [
    "### amenities(NOT DONE)\n",
    "One Hot Encoding</P>\n",
    "正規處理\\\n"
   ]
  },
  {
   "cell_type": "code",
   "execution_count": 115,
   "metadata": {},
   "outputs": [],
   "source": [
    "#df1.iloc[:,18].isnull().sum()#0\n",
    "#df1.iloc[:,18][2]#.str.replace(r'')\n",
    "#df1[\"amenities\"] = \n",
    "#df1.iloc[:,18] = df1.iloc[:,18].str.lower()#.replace('{','').replace('}','').replace('\"','').replace(' ','_').split(',')\n",
    "#mlb = MultiLabelBinarizer()\n",
    "#final_df = df1.join(pd.DataFrame(mlb.fit_transform(df1.pop('amenities')),columns=mlb.classes_,index=df1.index))\n",
    "#final_df.head()\n",
    "\n",
    "#df1['amenities'] = df1['amenities'].map(lambda amns: \"|\".join([amn.replace(\"}\", \"\").replace(\"{\", \"\").replace('\"', \"\")\\for amn in amns.split(\",\")]))\n"
   ]
  },
  {
   "cell_type": "code",
   "execution_count": 116,
   "metadata": {},
   "outputs": [],
   "source": [
    "def get_val_from_list(row, column_name, value):\n",
    "    ''' Fill in dummy column for values '''\n",
    "    val = 0.0\n",
    "    try:\n",
    "        vals = row[column_name].replace('[', '').replace(\"'\", '').replace(\"]\", '').replace('\"', '').replace('{', '').replace('}', '').split(',')\n",
    "        if value in vals:\n",
    "            val = 1.0\n",
    "    except:\n",
    "        val = 0.0\n",
    "    return val\n",
    "\n",
    "def split_list_into_columns(df, column_name, max_dummies_num = 30):\n",
    "    ''' Split values in columns, which contain lists (for example, amenities) '''\n",
    "    \n",
    "    # get dictionary of unique values in lists across dataset rows\n",
    "    values_dict = {}\n",
    "\n",
    "    for unique_value in df[column_name].unique(): \n",
    "        for value in unique_value.replace('[', '').replace(\"'\", '').replace(\"]\", '').replace('\"', '').replace('{', '').replace('}', '').split(','):\n",
    "            if value in values_dict:\n",
    "                values_dict[value] = values_dict[value] + 1\n",
    "            else:\n",
    "                values_dict[value] = 0\n",
    "                \n",
    "    values_sorted = sorted(values_dict.items(), key=lambda kv: kv[1], reverse = True)\n",
    "    # split into columns\n",
    "    for value in values_sorted[: max_dummies_num]:\n",
    "        df[column_name + '_' + value[0]] = df.apply(lambda row: get_val_from_list(row, column_name, value[0]),axis=1)\n",
    "        \n",
    "\n",
    "split_list_into_columns(df1, 'amenities')\n",
    "df1 = df1.drop(columns = ['amenities'])"
   ]
  },
  {
   "cell_type": "code",
   "execution_count": 117,
   "metadata": {},
   "outputs": [
    {
     "data": {
      "text/html": [
       "<div>\n",
       "<style scoped>\n",
       "    .dataframe tbody tr th:only-of-type {\n",
       "        vertical-align: middle;\n",
       "    }\n",
       "\n",
       "    .dataframe tbody tr th {\n",
       "        vertical-align: top;\n",
       "    }\n",
       "\n",
       "    .dataframe thead th {\n",
       "        text-align: right;\n",
       "    }\n",
       "</style>\n",
       "<table border=\"1\" class=\"dataframe\">\n",
       "  <thead>\n",
       "    <tr style=\"text-align: right;\">\n",
       "      <th></th>\n",
       "      <th>Kwai T</th>\n",
       "      <th>Kwun T</th>\n",
       "      <th>North</th>\n",
       "      <th>Sai Ku</th>\n",
       "    </tr>\n",
       "  </thead>\n",
       "  <tbody>\n",
       "    <tr>\n",
       "      <th>0</th>\n",
       "      <td>0</td>\n",
       "      <td>0</td>\n",
       "      <td>0</td>\n",
       "      <td>0</td>\n",
       "    </tr>\n",
       "    <tr>\n",
       "      <th>1</th>\n",
       "      <td>0</td>\n",
       "      <td>0</td>\n",
       "      <td>0</td>\n",
       "      <td>0</td>\n",
       "    </tr>\n",
       "    <tr>\n",
       "      <th>2</th>\n",
       "      <td>0</td>\n",
       "      <td>0</td>\n",
       "      <td>0</td>\n",
       "      <td>0</td>\n",
       "    </tr>\n",
       "    <tr>\n",
       "      <th>3</th>\n",
       "      <td>0</td>\n",
       "      <td>0</td>\n",
       "      <td>0</td>\n",
       "      <td>0</td>\n",
       "    </tr>\n",
       "    <tr>\n",
       "      <th>4</th>\n",
       "      <td>0</td>\n",
       "      <td>0</td>\n",
       "      <td>0</td>\n",
       "      <td>0</td>\n",
       "    </tr>\n",
       "  </tbody>\n",
       "</table>\n",
       "</div>"
      ],
      "text/plain": [
       "   Kwai T  Kwun T  North  Sai Ku\n",
       "0       0       0      0       0\n",
       "1       0       0      0       0\n",
       "2       0       0      0       0\n",
       "3       0       0      0       0\n",
       "4       0       0      0       0"
      ]
     },
     "execution_count": 117,
     "metadata": {},
     "output_type": "execute_result"
    }
   ],
   "source": [
    "df1.iloc[:,30:34].head(5)"
   ]
  },
  {
   "attachments": {},
   "cell_type": "markdown",
   "metadata": {},
   "source": [
    "### minimum_nights"
   ]
  },
  {
   "cell_type": "code",
   "execution_count": 118,
   "metadata": {},
   "outputs": [
    {
     "data": {
      "text/plain": [
       "1       1610\n",
       "29      1226\n",
       "30       945\n",
       "28       535\n",
       "2        369\n",
       "3        238\n",
       "31       193\n",
       "7        138\n",
       "5        121\n",
       "60        86\n",
       "14        62\n",
       "4         51\n",
       "10        50\n",
       "90        40\n",
       "6         33\n",
       "180       29\n",
       "20        25\n",
       "27        25\n",
       "365       24\n",
       "15        18\n",
       "182       16\n",
       "25        16\n",
       "26        10\n",
       "21         9\n",
       "100        7\n",
       "300        7\n",
       "22         7\n",
       "8          4\n",
       "39         3\n",
       "32         3\n",
       "120        3\n",
       "150        2\n",
       "9          2\n",
       "88         2\n",
       "19         2\n",
       "18         2\n",
       "11         2\n",
       "13         2\n",
       "61         2\n",
       "1125       1\n",
       "360        1\n",
       "291        1\n",
       "12         1\n",
       "35         1\n",
       "59         1\n",
       "259        1\n",
       "50         1\n",
       "600        1\n",
       "119        1\n",
       "250        1\n",
       "70         1\n",
       "62         1\n",
       "299        1\n",
       "190        1\n",
       "94         1\n",
       "23         1\n",
       "Name: minimum_nights, dtype: int64"
      ]
     },
     "execution_count": 118,
     "metadata": {},
     "output_type": "execute_result"
    }
   ],
   "source": [
    "df1['minimum_nights'].isnull().sum()#0\n",
    "df1['minimum_nights'].value_counts()"
   ]
  },
  {
   "attachments": {},
   "cell_type": "markdown",
   "metadata": {},
   "source": [
    "### number_of_reviews_ltm\n",
    "過去一年的瀏覽次數，可以當作Y</p>\n",
    "但感覺也不太準 因為疫情"
   ]
  },
  {
   "cell_type": "code",
   "execution_count": 119,
   "metadata": {},
   "outputs": [
    {
     "data": {
      "text/plain": [
       "0     4314\n",
       "1      465\n",
       "2      286\n",
       "3      174\n",
       "4      114\n",
       "      ... \n",
       "38       1\n",
       "90       1\n",
       "52       1\n",
       "65       1\n",
       "64       1\n",
       "Name: number_of_reviews_ltm, Length: 61, dtype: int64"
      ]
     },
     "execution_count": 119,
     "metadata": {},
     "output_type": "execute_result"
    }
   ],
   "source": [
    "df1['number_of_reviews_ltm'].isnull().sum()#0\n",
    "df1['number_of_reviews_ltm'].value_counts()"
   ]
  },
  {
   "attachments": {},
   "cell_type": "markdown",
   "metadata": {},
   "source": [
    "### review_scores_rating\n",
    "太多遺失值 應該就放棄了"
   ]
  },
  {
   "cell_type": "code",
   "execution_count": 120,
   "metadata": {},
   "outputs": [
    {
     "data": {
      "text/plain": [
       "3206"
      ]
     },
     "execution_count": 120,
     "metadata": {},
     "output_type": "execute_result"
    }
   ],
   "source": [
    "df1['review_scores_rating'].isnull().sum()"
   ]
  },
  {
   "attachments": {},
   "cell_type": "markdown",
   "metadata": {},
   "source": [
    "### Final Step\n",
    "delete missing data"
   ]
  },
  {
   "cell_type": "code",
   "execution_count": 121,
   "metadata": {},
   "outputs": [
    {
     "data": {
      "text/html": [
       "<div>\n",
       "<style scoped>\n",
       "    .dataframe tbody tr th:only-of-type {\n",
       "        vertical-align: middle;\n",
       "    }\n",
       "\n",
       "    .dataframe tbody tr th {\n",
       "        vertical-align: top;\n",
       "    }\n",
       "\n",
       "    .dataframe thead th {\n",
       "        text-align: right;\n",
       "    }\n",
       "</style>\n",
       "<table border=\"1\" class=\"dataframe\">\n",
       "  <thead>\n",
       "    <tr style=\"text-align: right;\">\n",
       "      <th></th>\n",
       "      <th>name</th>\n",
       "      <th>host_id</th>\n",
       "      <th>host_name</th>\n",
       "      <th>host_location</th>\n",
       "      <th>host_response_time</th>\n",
       "      <th>host_response_rate</th>\n",
       "      <th>host_acceptance_rate</th>\n",
       "      <th>host_is_superhost</th>\n",
       "      <th>host_neighbourhood</th>\n",
       "      <th>neighbourhood</th>\n",
       "      <th>neighbourhood_cleansed</th>\n",
       "      <th>property_type</th>\n",
       "      <th>room_type</th>\n",
       "      <th>accommodates</th>\n",
       "      <th>bathrooms</th>\n",
       "      <th>bathrooms_text</th>\n",
       "      <th>bedrooms</th>\n",
       "      <th>beds</th>\n",
       "      <th>price</th>\n",
       "    </tr>\n",
       "  </thead>\n",
       "  <tbody>\n",
       "    <tr>\n",
       "      <th>0</th>\n",
       "      <td>Large Light Filled Loft</td>\n",
       "      <td>69063</td>\n",
       "      <td>Candace</td>\n",
       "      <td>0</td>\n",
       "      <td>3</td>\n",
       "      <td>0</td>\n",
       "      <td>NaN</td>\n",
       "      <td>0.0</td>\n",
       "      <td>Sheung Wan</td>\n",
       "      <td>Hong Kong Island, Hong Kong</td>\n",
       "      <td>Centra</td>\n",
       "      <td>Entire rental unit</td>\n",
       "      <td>Entire home/apt</td>\n",
       "      <td>3</td>\n",
       "      <td>NaN</td>\n",
       "      <td>1</td>\n",
       "      <td>0.0</td>\n",
       "      <td>1.0</td>\n",
       "      <td>1400.0</td>\n",
       "    </tr>\n",
       "    <tr>\n",
       "      <th>1</th>\n",
       "      <td>SoHo off Hollywood Road 3A</td>\n",
       "      <td>304876</td>\n",
       "      <td>Brend</td>\n",
       "      <td>1</td>\n",
       "      <td>0</td>\n",
       "      <td>96</td>\n",
       "      <td>97.0</td>\n",
       "      <td>0.0</td>\n",
       "      <td>Sheung Wan</td>\n",
       "      <td>NaN</td>\n",
       "      <td>Centra</td>\n",
       "      <td>Entire rental unit</td>\n",
       "      <td>Entire home/apt</td>\n",
       "      <td>2</td>\n",
       "      <td>NaN</td>\n",
       "      <td>1</td>\n",
       "      <td>0.0</td>\n",
       "      <td>1.0</td>\n",
       "      <td>369.0</td>\n",
       "    </tr>\n",
       "    <tr>\n",
       "      <th>2</th>\n",
       "      <td>Central Centre 5 min walk to/from Central MTR</td>\n",
       "      <td>304876</td>\n",
       "      <td>Brend</td>\n",
       "      <td>1</td>\n",
       "      <td>0</td>\n",
       "      <td>96</td>\n",
       "      <td>97.0</td>\n",
       "      <td>0.0</td>\n",
       "      <td>Sheung Wan</td>\n",
       "      <td>NaN</td>\n",
       "      <td>Centra</td>\n",
       "      <td>Entire rental unit</td>\n",
       "      <td>Entire home/apt</td>\n",
       "      <td>6</td>\n",
       "      <td>NaN</td>\n",
       "      <td>1</td>\n",
       "      <td>2.0</td>\n",
       "      <td>3.0</td>\n",
       "      <td>1059.0</td>\n",
       "    </tr>\n",
       "    <tr>\n",
       "      <th>3</th>\n",
       "      <td>Entire Flat - Next to Man Mo Temple</td>\n",
       "      <td>544166</td>\n",
       "      <td>Celine</td>\n",
       "      <td>1</td>\n",
       "      <td>3</td>\n",
       "      <td>0</td>\n",
       "      <td>100.0</td>\n",
       "      <td>0.0</td>\n",
       "      <td>Mid-Levels</td>\n",
       "      <td>NaN</td>\n",
       "      <td>Centra</td>\n",
       "      <td>Entire rental unit</td>\n",
       "      <td>Entire home/apt</td>\n",
       "      <td>2</td>\n",
       "      <td>NaN</td>\n",
       "      <td>1.5</td>\n",
       "      <td>1.0</td>\n",
       "      <td>1.0</td>\n",
       "      <td>2391.0</td>\n",
       "    </tr>\n",
       "    <tr>\n",
       "      <th>4</th>\n",
       "      <td>Fabulous 2 Bdrm Aprt Open kitchen</td>\n",
       "      <td>304876</td>\n",
       "      <td>Brend</td>\n",
       "      <td>1</td>\n",
       "      <td>0</td>\n",
       "      <td>96</td>\n",
       "      <td>97.0</td>\n",
       "      <td>0.0</td>\n",
       "      <td>Sheung Wan</td>\n",
       "      <td>Hong Kong Island, Hong Kong</td>\n",
       "      <td>Centra</td>\n",
       "      <td>Entire rental unit</td>\n",
       "      <td>Entire home/apt</td>\n",
       "      <td>6</td>\n",
       "      <td>NaN</td>\n",
       "      <td>1</td>\n",
       "      <td>2.0</td>\n",
       "      <td>3.0</td>\n",
       "      <td>1097.0</td>\n",
       "    </tr>\n",
       "  </tbody>\n",
       "</table>\n",
       "</div>"
      ],
      "text/plain": [
       "                                            name  host_id host_name  \\\n",
       "0                        Large Light Filled Loft    69063   Candace   \n",
       "1                     SoHo off Hollywood Road 3A   304876     Brend   \n",
       "2  Central Centre 5 min walk to/from Central MTR   304876     Brend   \n",
       "3            Entire Flat - Next to Man Mo Temple   544166    Celine   \n",
       "4              Fabulous 2 Bdrm Aprt Open kitchen   304876     Brend   \n",
       "\n",
       "   host_location  host_response_time  host_response_rate  \\\n",
       "0              0                   3                   0   \n",
       "1              1                   0                  96   \n",
       "2              1                   0                  96   \n",
       "3              1                   3                   0   \n",
       "4              1                   0                  96   \n",
       "\n",
       "   host_acceptance_rate  host_is_superhost host_neighbourhood  \\\n",
       "0                   NaN                0.0         Sheung Wan   \n",
       "1                  97.0                0.0         Sheung Wan   \n",
       "2                  97.0                0.0         Sheung Wan   \n",
       "3                 100.0                0.0         Mid-Levels   \n",
       "4                  97.0                0.0         Sheung Wan   \n",
       "\n",
       "                 neighbourhood neighbourhood_cleansed       property_type  \\\n",
       "0  Hong Kong Island, Hong Kong                 Centra  Entire rental unit   \n",
       "1                          NaN                 Centra  Entire rental unit   \n",
       "2                          NaN                 Centra  Entire rental unit   \n",
       "3                          NaN                 Centra  Entire rental unit   \n",
       "4  Hong Kong Island, Hong Kong                 Centra  Entire rental unit   \n",
       "\n",
       "         room_type  accommodates  bathrooms bathrooms_text  bedrooms  beds  \\\n",
       "0  Entire home/apt             3        NaN              1       0.0   1.0   \n",
       "1  Entire home/apt             2        NaN              1       0.0   1.0   \n",
       "2  Entire home/apt             6        NaN              1       2.0   3.0   \n",
       "3  Entire home/apt             2        NaN            1.5       1.0   1.0   \n",
       "4  Entire home/apt             6        NaN              1       2.0   3.0   \n",
       "\n",
       "    price  \n",
       "0  1400.0  \n",
       "1   369.0  \n",
       "2  1059.0  \n",
       "3  2391.0  \n",
       "4  1097.0  "
      ]
     },
     "execution_count": 121,
     "metadata": {},
     "output_type": "execute_result"
    }
   ],
   "source": [
    "df1.iloc[:,1:20].head()"
   ]
  },
  {
   "cell_type": "code",
   "execution_count": 122,
   "metadata": {},
   "outputs": [],
   "source": [
    "#df1['room_type']\n",
    "df2 = df1.copy()\n",
    "delete = ['id','name','host_id','host_name','host_neighbourhood','neighbourhood','neighbourhood_cleansed','property_type','room_type','bathrooms','number_of_reviews_l30d','review_scores_rating']\n",
    "for i in delete:\n",
    "    df2.pop(i)\n",
    "\n",
    "df2 = df2.dropna()"
   ]
  },
  {
   "attachments": {},
   "cell_type": "markdown",
   "metadata": {},
   "source": [
    "# 二、敘述性分析\n",
    "目標：找到影響價格與點進去看的次數的重要變數</P>\n",
    "</P>\n"
   ]
  },
  {
   "attachments": {},
   "cell_type": "markdown",
   "metadata": {},
   "source": [
    "## 相關性分析 檢視連續變數之間的差別"
   ]
  },
  {
   "cell_type": "code",
   "execution_count": 123,
   "metadata": {},
   "outputs": [
    {
     "data": {
      "text/plain": [
       "504"
      ]
     },
     "execution_count": 123,
     "metadata": {},
     "output_type": "execute_result"
    }
   ],
   "source": [
    "df3 = df1.copy()\n",
    "delete2 = ['id','host_location','name','host_id','host_name','host_neighbourhood','neighbourhood','property_type','room_type','bathrooms','review_scores_rating','bathrooms_text','neighbourhood_cleansed']\n",
    "for i in delete2:\n",
    "    df3.pop(i)\n",
    "\n",
    "\n",
    "df3.iloc[:,0:12].head()\n",
    "df3['host_acceptance_rate'].isnull().sum()"
   ]
  },
  {
   "cell_type": "code",
   "execution_count": 124,
   "metadata": {},
   "outputs": [],
   "source": [
    "#處理price的outlier\n",
    "max_thresold = df3['price'].quantile(0.95)\n",
    "min_thresold = df3['price'].quantile(0.05)\n",
    "min_thresold\n",
    "df3 = df3[(df3['price']<max_thresold) & (df3['price']>min_thresold)]"
   ]
  },
  {
   "cell_type": "code",
   "execution_count": 125,
   "metadata": {},
   "outputs": [
    {
     "data": {
      "text/plain": [
       "<seaborn.axisgrid.FacetGrid at 0x1fb48d43a30>"
      ]
     },
     "execution_count": 125,
     "metadata": {},
     "output_type": "execute_result"
    },
    {
     "data": {
      "image/png": "[encoded data removed]",
      "text/plain": [
       "<Figure size 360x360 with 1 Axes>"
      ]
     },
     "metadata": {},
     "output_type": "display_data"
    }
   ],
   "source": [
    "sns.displot(df3['price'],kde = True)"
   ]
  },
  {
   "cell_type": "code",
   "execution_count": 126,
   "metadata": {},
   "outputs": [
    {
     "name": "stdout",
     "output_type": "stream",
     "text": [
      "<class 'pandas.core.frame.DataFrame'>\n",
      "Int64Index: 4385 entries, 0 to 5935\n",
      "Data columns (total 20 columns):\n",
      " #   Column                  Non-Null Count  Dtype  \n",
      "---  ------                  --------------  -----  \n",
      " 0   host_response_time      4385 non-null   int64  \n",
      " 1   host_response_rate      4385 non-null   int32  \n",
      " 2   host_acceptance_rate    3988 non-null   float64\n",
      " 3   host_is_superhost       4385 non-null   float64\n",
      " 4   accommodates            4385 non-null   int64  \n",
      " 5   bedrooms                4385 non-null   float64\n",
      " 6   beds                    4315 non-null   float64\n",
      " 7   price                   4385 non-null   float64\n",
      " 8   minimum_nights          4385 non-null   int64  \n",
      " 9   number_of_reviews       4385 non-null   int64  \n",
      " 10  number_of_reviews_ltm   4385 non-null   int64  \n",
      " 11  number_of_reviews_l30d  4385 non-null   int64  \n",
      " 12  nc_te                   4385 non-null   int64  \n",
      " 13  Centra                  4385 non-null   uint8  \n",
      " 14  Easter                  4385 non-null   uint8  \n",
      " 15  Island                  4385 non-null   uint8  \n",
      " 16  Kowloo                  4385 non-null   uint8  \n",
      " 17  Kwai T                  4385 non-null   uint8  \n",
      " 18  Kwun T                  4385 non-null   uint8  \n",
      " 19  North                   4385 non-null   uint8  \n",
      "dtypes: float64(5), int32(1), int64(7), uint8(7)\n",
      "memory usage: 492.5 KB\n"
     ]
    }
   ],
   "source": [
    "df3.iloc[:,0:20].info()"
   ]
  },
  {
   "cell_type": "code",
   "execution_count": 127,
   "metadata": {},
   "outputs": [
    {
     "data": {
      "image/png": "[encoded data removed]",
      "text/plain": [
       "<Figure size 504x504 with 2 Axes>"
      ]
     },
     "metadata": {},
     "output_type": "display_data"
    }
   ],
   "source": [
    "#連續變數\n",
    "cont = [0,2,3,4,5,6,7,8,9,10]\n",
    "corrs = np.corrcoef(df3.iloc[:,cont].dropna().values.T)\n",
    "\n",
    "sns.set(font_scale=1)\n",
    "sns.set(rc={'figure.figsize':(7,7)})\n",
    "hm=sns.heatmap(corrs, cbar = True, annot=True, square = True, fmt = '.2f').set_title('Correlations heatmap')\n",
    "#print(df3.iloc[:,cont].info)\n",
    "fig = hm.get_figure()\n",
    "fig.savefig('correlations.jpg')"
   ]
  },
  {
   "attachments": {},
   "cell_type": "markdown",
   "metadata": {},
   "source": [
    "## 變異數分析(ANOVA) 檢視連續變數與類別變數的差別\n",
    "1. 價格與room_type\n",
    "2. 價格與property_type(Other太雜了 不好分析)\n",
    "3. 價格與host_location\n",
    "4. 價格與Superhost\n",
    "5. number_of_reviews_ltm/number_of_reviews_l30d 與 room_type/property_type"
   ]
  },
  {
   "cell_type": "code",
   "execution_count": 128,
   "metadata": {},
   "outputs": [
    {
     "data": {
      "image/png": "[encoded data removed]",
      "text/plain": [
       "<Figure size 360x360 with 1 Axes>"
      ]
     },
     "metadata": {},
     "output_type": "display_data"
    }
   ],
   "source": [
    "#check price whether is normal dist.\n",
    "from scipy.stats import normaltest\n",
    "np.log(df3['price'])\n",
    "normaltest(np.log(df3['price']))\n",
    "pic = sns.displot(df3['price'],kde = True)\n",
    "pic.savefig('price.jpg')"
   ]
  },
  {
   "cell_type": "code",
   "execution_count": 129,
   "metadata": {},
   "outputs": [
    {
     "data": {
      "text/plain": [
       "0      2872\n",
       "1       430\n",
       "2       266\n",
       "3       169\n",
       "4       107\n",
       "7        74\n",
       "5        71\n",
       "6        59\n",
       "9        40\n",
       "8        37\n",
       "10       34\n",
       "12       23\n",
       "11       19\n",
       "15       18\n",
       "13       16\n",
       "14       15\n",
       "16       13\n",
       "21       13\n",
       "20       11\n",
       "19        8\n",
       "17        7\n",
       "24        7\n",
       "28        7\n",
       "18        7\n",
       "22        6\n",
       "34        6\n",
       "37        4\n",
       "32        4\n",
       "27        3\n",
       "29        3\n",
       "25        2\n",
       "80        2\n",
       "61        2\n",
       "86        2\n",
       "41        2\n",
       "44        2\n",
       "23        2\n",
       "35        2\n",
       "52        1\n",
       "90        1\n",
       "108       1\n",
       "81        1\n",
       "42        1\n",
       "40        1\n",
       "31        1\n",
       "94        1\n",
       "36        1\n",
       "47        1\n",
       "49        1\n",
       "129       1\n",
       "26        1\n",
       "33        1\n",
       "66        1\n",
       "57        1\n",
       "38        1\n",
       "59        1\n",
       "65        1\n",
       "64        1\n",
       "Name: number_of_reviews_ltm, dtype: int64"
      ]
     },
     "execution_count": 129,
     "metadata": {},
     "output_type": "execute_result"
    }
   ],
   "source": [
    "#check price whether is normal dist.\n",
    "\n",
    "df3['number_of_reviews_ltm'].value_counts()\n",
    "#sns.displot(df3['number_of_reviews_l30d'])"
   ]
  },
  {
   "attachments": {},
   "cell_type": "markdown",
   "metadata": {},
   "source": [
    "### 1. price/room_type\n",
    "結論：Entire home/apt價格顯著較高，其次為Share"
   ]
  },
  {
   "cell_type": "code",
   "execution_count": 187,
   "metadata": {},
   "outputs": [
    {
     "name": "stdout",
     "output_type": "stream",
     "text": [
      "Private room       3314\n",
      "Entire home/apt    2253\n",
      "Shared room         297\n",
      "Hotel room           72\n",
      "Name: room_type, dtype: int64\n"
     ]
    },
    {
     "data": {
      "image/png": "[encoded data removed]",
      "text/plain": [
       "<Figure size 1440x288 with 1 Axes>"
      ]
     },
     "metadata": {},
     "output_type": "display_data"
    }
   ],
   "source": [
    "#price\n",
    "df1['room_type'].isnull().sum()#0\n",
    "print(df1['room_type'].value_counts())\n",
    "plt.figure(figsize=(20, 4))\n",
    "pr = sns.boxplot(x = 'room_type', y = 'price', data = df1)\n",
    "fig = pr.get_figure()\n",
    "fig.savefig('pr.jpg')"
   ]
  },
  {
   "attachments": {},
   "cell_type": "markdown",
   "metadata": {},
   "source": [
    "檢定是否有顯著差別"
   ]
  },
  {
   "cell_type": "code",
   "execution_count": 158,
   "metadata": {},
   "outputs": [],
   "source": [
    "ano11 = df1[df1 ['room_type'] == 'Private room']['price'].tolist()\n",
    "ano12 = df1[df1 ['room_type'] == 'Entire home/apt']['price'].tolist()\n",
    "ano13 = df1[df1 ['room_type'] == 'Shared room']['price'].tolist()\n",
    "ano14 = df1[df1 ['room_type'] == 'Hotel room']['price'].tolist()"
   ]
  },
  {
   "cell_type": "code",
   "execution_count": 159,
   "metadata": {},
   "outputs": [
    {
     "data": {
      "text/plain": [
       "<seaborn.axisgrid.FacetGrid at 0x1fb42361a90>"
      ]
     },
     "execution_count": 159,
     "metadata": {},
     "output_type": "execute_result"
    },
    {
     "data": {
      "image/png": "[encoded data removed]",
      "text/plain": [
       "<Figure size 360x360 with 1 Axes>"
      ]
     },
     "metadata": {},
     "output_type": "display_data"
    }
   ],
   "source": [
    "sns.displot(df1[df1 ['room_type'] == 'Entire home/apt']['price'],kde = True)"
   ]
  },
  {
   "cell_type": "code",
   "execution_count": 160,
   "metadata": {},
   "outputs": [
    {
     "name": "stdout",
     "output_type": "stream",
     "text": [
      "ShapiroResult(statistic=0.016222238540649414, pvalue=0.0)\n",
      "ShapiroResult(statistic=0.14261311292648315, pvalue=0.0)\n",
      "ShapiroResult(statistic=0.07791900634765625, pvalue=1.9467750522911022e-35)\n",
      "ShapiroResult(statistic=0.413688600063324, pvalue=1.9129013033547223e-15)\n"
     ]
    }
   ],
   "source": [
    "print(st.shapiro(ano11))\n",
    "print(st.shapiro(ano12))\n",
    "print(st.shapiro(ano13))\n",
    "print(st.shapiro(ano14))\n"
   ]
  },
  {
   "attachments": {},
   "cell_type": "markdown",
   "metadata": {},
   "source": [
    "都不是常態，故使用Kruskal-Wallis檢定(但檢定目標從平均變成中位數了)</P>\n",
    "https://statistics-using-python.blogspot.com/2019/08/kruskal-wallis-h-testnon-parametric.html"
   ]
  },
  {
   "cell_type": "code",
   "execution_count": 161,
   "metadata": {},
   "outputs": [
    {
     "name": "stdout",
     "output_type": "stream",
     "text": [
      "KruskalResult(statistic=44.61961984440073, pvalue=2.046315804441038e-10)\n",
      "KruskalResult(statistic=25.474902124429608, pvalue=4.4817530019525357e-07)\n",
      "KruskalResult(statistic=16.173358652580035, pvalue=5.780134802729404e-05)\n",
      "KruskalResult(statistic=53.881221226948675, pvalue=2.1298363550646433e-13)\n"
     ]
    }
   ],
   "source": [
    "from scipy import stats\n",
    "print(stats.kruskal(ano11,ano13,ano14))\n",
    "print(stats.kruskal(ano11,ano14))\n",
    "print(stats.kruskal(ano11,ano13))\n",
    "print(stats.kruskal(ano13,ano14))"
   ]
  },
  {
   "attachments": {},
   "cell_type": "markdown",
   "metadata": {},
   "source": [
    "### 2.number_of_reviews_ltm/room_type\n",
    "結論：Entire home/apt觀看次數顯著較多，其次為Hotel。Private room/Share Room並無顯著差別"
   ]
  },
  {
   "cell_type": "code",
   "execution_count": 186,
   "metadata": {},
   "outputs": [
    {
     "data": {
      "image/png": "[encoded data removed]",
      "text/plain": [
       "<Figure size 1440x288 with 1 Axes>"
      ]
     },
     "metadata": {},
     "output_type": "display_data"
    }
   ],
   "source": [
    "#number_of_reviews_ltm\n",
    "plt.figure(figsize=(20, 4))\n",
    "nr = sns.boxplot(x = 'room_type', y = 'number_of_reviews_ltm', data = df1)\n",
    "fig = nr.get_figure()\n",
    "fig.savefig('nr.jpg')"
   ]
  },
  {
   "attachments": {},
   "cell_type": "markdown",
   "metadata": {},
   "source": [
    "檢定是否有顯著差別"
   ]
  },
  {
   "cell_type": "code",
   "execution_count": 163,
   "metadata": {},
   "outputs": [],
   "source": [
    "ano11 = df1[df1 ['room_type'] == 'Private room']['number_of_reviews_ltm'].tolist()\n",
    "ano12 = df1[df1 ['room_type'] == 'Entire home/apt']['number_of_reviews_ltm'].tolist()\n",
    "ano13 = df1[df1 ['room_type'] == 'Shared room']['number_of_reviews_ltm'].tolist()\n",
    "ano14 = df1[df1 ['room_type'] == 'Hotel room']['number_of_reviews_ltm'].tolist()"
   ]
  },
  {
   "cell_type": "code",
   "execution_count": 164,
   "metadata": {},
   "outputs": [
    {
     "name": "stdout",
     "output_type": "stream",
     "text": [
      "ShapiroResult(statistic=0.3113607168197632, pvalue=0.0)\n",
      "ShapiroResult(statistic=0.3737102746963501, pvalue=0.0)\n",
      "ShapiroResult(statistic=0.3904615640640259, pvalue=2.167858718848615e-30)\n",
      "ShapiroResult(statistic=0.4964470863342285, pvalue=2.554917845484176e-14)\n"
     ]
    }
   ],
   "source": [
    "print(st.shapiro(ano11))\n",
    "print(st.shapiro(ano12))\n",
    "print(st.shapiro(ano13))\n",
    "print(st.shapiro(ano14))"
   ]
  },
  {
   "cell_type": "code",
   "execution_count": 165,
   "metadata": {},
   "outputs": [
    {
     "name": "stdout",
     "output_type": "stream",
     "text": [
      "KruskalResult(statistic=382.2367624832235, pvalue=1.5580439055072154e-82)\n",
      "KruskalResult(statistic=1.1480521046814904, pvalue=0.2839572838210159)\n"
     ]
    }
   ],
   "source": [
    "print(stats.kruskal(ano11,ano12,ano13,ano14))\n",
    "print(stats.kruskal(ano11,ano13))"
   ]
  },
  {
   "attachments": {},
   "cell_type": "markdown",
   "metadata": {},
   "source": [
    "### 3.價格與host_location\n",
    "host不在香港價格較高"
   ]
  },
  {
   "cell_type": "code",
   "execution_count": 185,
   "metadata": {},
   "outputs": [
    {
     "data": {
      "text/plain": [
       "<AxesSubplot:xlabel='host_location', ylabel='price'>"
      ]
     },
     "execution_count": 185,
     "metadata": {},
     "output_type": "execute_result"
    },
    {
     "data": {
      "image/png": "[encoded data removed]",
      "text/plain": [
       "<Figure size 1440x288 with 1 Axes>"
      ]
     },
     "metadata": {},
     "output_type": "display_data"
    }
   ],
   "source": [
    "#number_of_reviews_ltm\n",
    "plt.figure(figsize=(20, 4))\n",
    "sns.boxplot(x = 'host_location', y = 'price', data = df1)\n"
   ]
  },
  {
   "cell_type": "code",
   "execution_count": 167,
   "metadata": {},
   "outputs": [],
   "source": [
    "max_thresold = df1['price'].quantile(0.95)\n",
    "min_thresold = df1['price'].quantile(0.05)\n",
    "min_thresold\n",
    "df4 = df1[(df1['price']<max_thresold) & (df1['price']>min_thresold)]"
   ]
  },
  {
   "cell_type": "code",
   "execution_count": 168,
   "metadata": {},
   "outputs": [
    {
     "name": "stdout",
     "output_type": "stream",
     "text": [
      "ShapiroResult(statistic=0.9016226530075073, pvalue=2.5064689884391373e-30)\n",
      "ShapiroResult(statistic=0.8310946226119995, pvalue=0.0)\n"
     ]
    }
   ],
   "source": [
    "ano11 = df4[df4['host_location'] == 0]['price'].tolist()\n",
    "ano12 = df4[df4['host_location'] == 1]['price'].tolist()\n",
    "print(st.shapiro(ano11))\n",
    "print(st.shapiro(ano12))\n",
    "#sns.displot(ano12, kde = True)"
   ]
  },
  {
   "attachments": {},
   "cell_type": "markdown",
   "metadata": {},
   "source": [
    "非常態分佈，兩組資料以無母數檢定作分析。"
   ]
  },
  {
   "cell_type": "code",
   "execution_count": 169,
   "metadata": {},
   "outputs": [
    {
     "name": "stdout",
     "output_type": "stream",
     "text": [
      "KruskalResult(statistic=83.36028023474609, pvalue=6.8382265628801e-20)\n"
     ]
    }
   ],
   "source": [
    "print(stats.kruskal(ano11,ano12))#"
   ]
  },
  {
   "attachments": {},
   "cell_type": "markdown",
   "metadata": {},
   "source": [
    "### 4.number_of_reviews_ltm與host_location"
   ]
  },
  {
   "cell_type": "code",
   "execution_count": 184,
   "metadata": {},
   "outputs": [
    {
     "data": {
      "text/plain": [
       "<AxesSubplot:xlabel='host_location', ylabel='number_of_reviews_ltm'>"
      ]
     },
     "execution_count": 184,
     "metadata": {},
     "output_type": "execute_result"
    },
    {
     "data": {
      "image/png": "[encoded data removed]",
      "text/plain": [
       "<Figure size 1440x288 with 1 Axes>"
      ]
     },
     "metadata": {},
     "output_type": "display_data"
    }
   ],
   "source": [
    "#number_of_reviews_ltm\n",
    "plt.figure(figsize=(20, 4))\n",
    "sns.boxplot(x = 'host_location', y = 'number_of_reviews_ltm', data = df1)"
   ]
  },
  {
   "cell_type": "code",
   "execution_count": 171,
   "metadata": {},
   "outputs": [
    {
     "name": "stdout",
     "output_type": "stream",
     "text": [
      "ShapiroResult(statistic=0.2971993684768677, pvalue=0.0)\n",
      "ShapiroResult(statistic=0.35550278425216675, pvalue=0.0)\n",
      "KruskalResult(statistic=20.750886761760803, pvalue=5.230735196872186e-06)\n"
     ]
    }
   ],
   "source": [
    "ano11 = df4[df4['host_location'] == 0]['number_of_reviews_ltm'].tolist()\n",
    "ano12 = df4[df4['host_location'] == 1]['number_of_reviews_ltm'].tolist()\n",
    "print(st.shapiro(ano11))\n",
    "print(st.shapiro(ano12))\n",
    "#sns.displot(ano12, kde = True)\n",
    "print(stats.kruskal(ano11,ano12))#host不在香港還比較好"
   ]
  },
  {
   "attachments": {},
   "cell_type": "markdown",
   "metadata": {},
   "source": [
    "### 5.superhost 與 price\n",
    "結論：Superhost的價格比較高"
   ]
  },
  {
   "cell_type": "code",
   "execution_count": 188,
   "metadata": {},
   "outputs": [
    {
     "data": {
      "image/png": "[encoded data removed]",
      "text/plain": [
       "<Figure size 1440x288 with 1 Axes>"
      ]
     },
     "metadata": {},
     "output_type": "display_data"
    }
   ],
   "source": [
    "#number_of_reviews_ltm\n",
    "plt.figure(figsize=(20, 4))\n",
    "ps = sns.boxplot(x = 'host_is_superhost', y = 'price', data = df1)\n",
    "fig = ps.get_figure()\n",
    "fig.savefig('ps.jpg')"
   ]
  },
  {
   "cell_type": "code",
   "execution_count": 173,
   "metadata": {},
   "outputs": [
    {
     "name": "stdout",
     "output_type": "stream",
     "text": [
      "ShapiroResult(statistic=0.8536533713340759, pvalue=0.0)\n",
      "ShapiroResult(statistic=0.8735575079917908, pvalue=5.168869254518802e-18)\n",
      "KruskalResult(statistic=81.16175469036499, pvalue=2.0797822704173329e-19)\n"
     ]
    }
   ],
   "source": [
    "ano11 = df4[df4['host_is_superhost'] == 0]['price'].tolist()\n",
    "ano12 = df4[df4['host_is_superhost'] == 1]['price'].tolist()\n",
    "print(st.shapiro(ano11))\n",
    "print(st.shapiro(ano12))\n",
    "#sns.displot(ano12, kde = True)\n",
    "print(stats.kruskal(ano11,ano12))#host不在香港還比較好"
   ]
  },
  {
   "attachments": {},
   "cell_type": "markdown",
   "metadata": {},
   "source": [
    "### 6.superhost 與 number_of_reviews_ltm\n",
    "結論：Superhost的曝光度比較高"
   ]
  },
  {
   "cell_type": "code",
   "execution_count": 189,
   "metadata": {},
   "outputs": [
    {
     "data": {
      "image/png": "[encoded data removed]",
      "text/plain": [
       "<Figure size 1440x288 with 1 Axes>"
      ]
     },
     "metadata": {},
     "output_type": "display_data"
    }
   ],
   "source": [
    "#number_of_reviews_ltm\n",
    "plt.figure(figsize=(20, 4))\n",
    "ns = sns.boxplot(x = 'host_is_superhost', y = 'number_of_reviews_ltm', data = df1)\n",
    "fig = ns.get_figure()\n",
    "fig.savefig('ns.jpg')"
   ]
  },
  {
   "cell_type": "code",
   "execution_count": 175,
   "metadata": {},
   "outputs": [
    {
     "name": "stdout",
     "output_type": "stream",
     "text": [
      "ShapiroResult(statistic=0.3262788653373718, pvalue=0.0)\n",
      "ShapiroResult(statistic=0.5122596025466919, pvalue=2.2073330063985218e-32)\n",
      "KruskalResult(statistic=297.22799236021245, pvalue=1.3234504139133773e-66)\n"
     ]
    }
   ],
   "source": [
    "ano11 = df4[df4['host_is_superhost'] == 0]['number_of_reviews_ltm'].tolist()\n",
    "ano12 = df4[df4['host_is_superhost'] == 1]['number_of_reviews_ltm'].tolist()\n",
    "print(st.shapiro(ano11))\n",
    "print(st.shapiro(ano12))\n",
    "#sns.displot(ano12, kde = True)\n",
    "print(stats.kruskal(ano11,ano12))#host不在香港還比較好"
   ]
  },
  {
   "attachments": {},
   "cell_type": "markdown",
   "metadata": {},
   "source": [
    "### 7.price/neighbourhood_cleansed\n",
    "地點與價格有顯著影響"
   ]
  },
  {
   "cell_type": "code",
   "execution_count": 190,
   "metadata": {},
   "outputs": [
    {
     "data": {
      "image/png": "[encoded data removed]",
      "text/plain": [
       "<Figure size 1440x288 with 1 Axes>"
      ]
     },
     "metadata": {},
     "output_type": "display_data"
    }
   ],
   "source": [
    "#number_of_reviews_ltm\n",
    "plt.figure(figsize=(20, 4))\n",
    "sns.boxplot(x = 'neighbourhood_cleansed', y = 'price', data = df1)\n",
    "ncp = sns.barplot(x = 'neighbourhood_cleansed', y = 'number_of_reviews_ltm', data = df1)\n",
    "fig = ncp.get_figure()\n",
    "fig.savefig('ncp.jpg')"
   ]
  },
  {
   "cell_type": "code",
   "execution_count": 177,
   "metadata": {},
   "outputs": [
    {
     "data": {
      "text/plain": [
       "Yau Ts    2114\n",
       "Wan Ch    1278\n",
       "Centra    1094\n",
       "Island     324\n",
       "Kowloo     245\n",
       "Easter     243\n",
       "Sham S     163\n",
       "Southe     139\n",
       "Sai Ku      95\n",
       "Yuen L      52\n",
       "Sha Ti      42\n",
       "Tuen M      36\n",
       "Tai Po      29\n",
       "Kwun T      28\n",
       "Tsuen       21\n",
       "Wong T      16\n",
       "North       13\n",
       "Kwai T       4\n",
       "Name: neighbourhood_cleansed, dtype: int64"
      ]
     },
     "execution_count": 177,
     "metadata": {},
     "output_type": "execute_result"
    }
   ],
   "source": [
    "df1['neighbourhood_cleansed'].value_counts()"
   ]
  },
  {
   "cell_type": "code",
   "execution_count": 178,
   "metadata": {},
   "outputs": [],
   "source": [
    "ano11 = df1[df1['neighbourhood_cleansed'] == 'Yau']['price'].tolist()\n",
    "ano12 = df1[df1['neighbourhood_cleansed'] == 'Wan']['price'].tolist()\n",
    "ano13 = df1[df1['neighbourhood_cleansed'] == 'Central']['price'].tolist()\n",
    "ano14 = df1[df1['neighbourhood_cleansed'] == 'Islands']['price'].tolist()\n",
    "ano15 = df1[df1['neighbourhood_cleansed'] == 'Kowloon']['price'].tolist()\n",
    "ano16 = df1[df1['neighbourhood_cleansed'] == 'Eastern']['price'].tolist()\n",
    "ano17 = df1[df1['neighbourhood_cleansed'] == 'Sham']['price'].tolist()\n",
    "#sns.displot(ano12, kde = True)"
   ]
  },
  {
   "attachments": {},
   "cell_type": "markdown",
   "metadata": {},
   "source": [
    "### 8.number_of_reviews_ltm / neighbourhood_cleansed\n"
   ]
  },
  {
   "cell_type": "code",
   "execution_count": 191,
   "metadata": {},
   "outputs": [
    {
     "data": {
      "image/png": "[encoded data removed]",
      "text/plain": [
       "<Figure size 1440x288 with 1 Axes>"
      ]
     },
     "metadata": {},
     "output_type": "display_data"
    }
   ],
   "source": [
    "#number_of_reviews_ltm\n",
    "plt.figure(figsize=(20, 4))\n",
    "ncn = sns.boxplot(x = 'neighbourhood_cleansed', y = 'number_of_reviews_ltm', data = df1)\n",
    "fig = ncn.get_figure()\n",
    "fig.savefig('ncn.jpg')"
   ]
  },
  {
   "cell_type": "code",
   "execution_count": 180,
   "metadata": {},
   "outputs": [
    {
     "name": "stdout",
     "output_type": "stream",
     "text": [
      "KruskalResult(statistic=nan, pvalue=nan)\n"
     ]
    }
   ],
   "source": [
    "ano11 = df1[df1['neighbourhood_cleansed'] == 'Yau']['number_of_reviews_ltm'].tolist()\n",
    "ano12 = df1[df1['neighbourhood_cleansed'] == 'Wan']['number_of_reviews_ltm'].tolist()\n",
    "ano13 = df1[df1['neighbourhood_cleansed'] == 'Central']['number_of_reviews_ltm'].tolist()\n",
    "ano14 = df1[df1['neighbourhood_cleansed'] == 'Islands']['number_of_reviews_ltm'].tolist()\n",
    "ano15 = df1[df1['neighbourhood_cleansed'] == 'Kowloon']['number_of_reviews_ltm'].tolist()\n",
    "ano16 = df1[df1['neighbourhood_cleansed'] == 'Eastern']['number_of_reviews_ltm'].tolist()\n",
    "ano17 = df1[df1['neighbourhood_cleansed'] == 'Sham']['number_of_reviews_ltm'].tolist()\n",
    "print(stats.kruskal(ano11,ano12,ano13,ano14,ano15,ano16,ano17))#host不在香港還比較好"
   ]
  },
  {
   "attachments": {},
   "cell_type": "markdown",
   "metadata": {},
   "source": [
    "### Regression amenities\n"
   ]
  },
  {
   "attachments": {},
   "cell_type": "markdown",
   "metadata": {},
   "source": [
    "我們利用迴歸分析，檢視各項設施中，哪些東西的出現會影響到PRICE。</P>\n",
    "最後發現有以下幾項P值小於0.05，表示與價格有顯著關聯。\n",
    "1. TV\n",
    "2. Elevator\n",
    "3. Refrigerator\n",
    "4. Smoke alarm \n",
    "5. Dishes and silverware\n",
    "6. Long term stays allowed\n",
    "7. Self check-in\n",
    "\n",
    "根據這幾項，我們可以稍微猜一下應該由於房型為飯店或是獨棟的住處，故有些設施是有的(例如冰箱、Self check-in等很有可能是獨棟住處，而Smoke alarm 極有可能是出現在飯店的東西，或是獨棟住處有些也有可能)"
   ]
  },
  {
   "cell_type": "code",
   "execution_count": 181,
   "metadata": {},
   "outputs": [
    {
     "data": {
      "text/html": [
       "<div>\n",
       "<style scoped>\n",
       "    .dataframe tbody tr th:only-of-type {\n",
       "        vertical-align: middle;\n",
       "    }\n",
       "\n",
       "    .dataframe tbody tr th {\n",
       "        vertical-align: top;\n",
       "    }\n",
       "\n",
       "    .dataframe thead th {\n",
       "        text-align: right;\n",
       "    }\n",
       "</style>\n",
       "<table border=\"1\" class=\"dataframe\">\n",
       "  <thead>\n",
       "    <tr style=\"text-align: right;\">\n",
       "      <th></th>\n",
       "      <th>Sha Ti</th>\n",
       "      <th>Sham S</th>\n",
       "      <th>Southe</th>\n",
       "      <th>Tai Po</th>\n",
       "      <th>Tsuen</th>\n",
       "      <th>Tuen M</th>\n",
       "      <th>Wan Ch</th>\n",
       "      <th>Wong T</th>\n",
       "      <th>Yau Ts</th>\n",
       "      <th>Yuen L</th>\n",
       "      <th>...</th>\n",
       "      <th>amenities_ Microwave</th>\n",
       "      <th>amenities_ Private entrance</th>\n",
       "      <th>amenities_ Lock on bedroom door</th>\n",
       "      <th>amenities_ Self check-in</th>\n",
       "      <th>amenities_ Heating</th>\n",
       "      <th>amenities_ First aid kit</th>\n",
       "      <th>amenities_ Extra pillows and blankets</th>\n",
       "      <th>amenities_ Hot water kettle</th>\n",
       "      <th>amenities_ Shower gel</th>\n",
       "      <th>amenities_ Luggage dropoff allowed</th>\n",
       "    </tr>\n",
       "  </thead>\n",
       "  <tbody>\n",
       "    <tr>\n",
       "      <th>0</th>\n",
       "      <td>0</td>\n",
       "      <td>0</td>\n",
       "      <td>0</td>\n",
       "      <td>0</td>\n",
       "      <td>0</td>\n",
       "      <td>0</td>\n",
       "      <td>0</td>\n",
       "      <td>0</td>\n",
       "      <td>0</td>\n",
       "      <td>0</td>\n",
       "      <td>...</td>\n",
       "      <td>0.0</td>\n",
       "      <td>0.0</td>\n",
       "      <td>0.0</td>\n",
       "      <td>0.0</td>\n",
       "      <td>0.0</td>\n",
       "      <td>0.0</td>\n",
       "      <td>0.0</td>\n",
       "      <td>0.0</td>\n",
       "      <td>0.0</td>\n",
       "      <td>0.0</td>\n",
       "    </tr>\n",
       "    <tr>\n",
       "      <th>1</th>\n",
       "      <td>0</td>\n",
       "      <td>0</td>\n",
       "      <td>0</td>\n",
       "      <td>0</td>\n",
       "      <td>0</td>\n",
       "      <td>0</td>\n",
       "      <td>0</td>\n",
       "      <td>0</td>\n",
       "      <td>0</td>\n",
       "      <td>0</td>\n",
       "      <td>...</td>\n",
       "      <td>0.0</td>\n",
       "      <td>0.0</td>\n",
       "      <td>0.0</td>\n",
       "      <td>0.0</td>\n",
       "      <td>1.0</td>\n",
       "      <td>0.0</td>\n",
       "      <td>0.0</td>\n",
       "      <td>0.0</td>\n",
       "      <td>0.0</td>\n",
       "      <td>0.0</td>\n",
       "    </tr>\n",
       "  </tbody>\n",
       "</table>\n",
       "<p>2 rows × 109 columns</p>\n",
       "</div>"
      ],
      "text/plain": [
       "   Sha Ti  Sham S  Southe  Tai Po  Tsuen   Tuen M  Wan Ch  Wong T  Yau Ts  \\\n",
       "0       0       0       0       0       0       0       0       0       0   \n",
       "1       0       0       0       0       0       0       0       0       0   \n",
       "\n",
       "   Yuen L  ...  amenities_ Microwave  amenities_ Private entrance  \\\n",
       "0       0  ...                   0.0                          0.0   \n",
       "1       0  ...                   0.0                          0.0   \n",
       "\n",
       "   amenities_ Lock on bedroom door  amenities_ Self check-in  \\\n",
       "0                              0.0                       0.0   \n",
       "1                              0.0                       0.0   \n",
       "\n",
       "   amenities_ Heating  amenities_ First aid kit  \\\n",
       "0                 0.0                       0.0   \n",
       "1                 1.0                       0.0   \n",
       "\n",
       "   amenities_ Extra pillows and blankets  amenities_ Hot water kettle  \\\n",
       "0                                    0.0                          0.0   \n",
       "1                                    0.0                          0.0   \n",
       "\n",
       "   amenities_ Shower gel  amenities_ Luggage dropoff allowed  \n",
       "0                    0.0                                 0.0  \n",
       "1                    0.0                                 0.0  \n",
       "\n",
       "[2 rows x 109 columns]"
      ]
     },
     "execution_count": 181,
     "metadata": {},
     "output_type": "execute_result"
    }
   ],
   "source": [
    "df1.iloc[:,34:].head(2)"
   ]
  },
  {
   "cell_type": "code",
   "execution_count": 194,
   "metadata": {},
   "outputs": [
    {
     "name": "stdout",
     "output_type": "stream",
     "text": [
      "                                 OLS Regression Results                                \n",
      "=======================================================================================\n",
      "Dep. Variable:                  price   R-squared (uncentered):                   0.031\n",
      "Model:                            OLS   Adj. R-squared (uncentered):              0.027\n",
      "Method:                 Least Squares   F-statistic:                              6.396\n",
      "Date:                Tue, 06 Jun 2023   Prob (F-statistic):                    4.90e-25\n",
      "Time:                        02:54:50   Log-Likelihood:                         -61022.\n",
      "No. Observations:                5936   AIC:                                  1.221e+05\n",
      "Df Residuals:                    5906   BIC:                                  1.223e+05\n",
      "Df Model:                          30                                                  \n",
      "Covariance Type:            nonrobust                                                  \n",
      "=========================================================================================================\n",
      "                                            coef    std err          t      P>|t|      [0.025      0.975]\n",
      "---------------------------------------------------------------------------------------------------------\n",
      "amenities_ Wifi                         459.5162    282.853      1.625      0.104     -94.980    1014.012\n",
      "amenities_ Air conditioning             296.6142    223.477      1.327      0.184    -141.483     734.712\n",
      "amenities_ Essentials                   121.9824    312.465      0.390      0.696    -490.564     734.529\n",
      "amenities_ Kitchen                     -329.2773    248.591     -1.325      0.185    -816.606     158.051\n",
      "amenities_ Hangers                     -155.8057    249.162     -0.625      0.532    -644.255     332.643\n",
      "amenities_ Hair dryer                    -5.7655    320.897     -0.018      0.986    -634.840     623.309\n",
      "amenities_ Hot water                     32.0518    266.626      0.120      0.904    -490.633     554.736\n",
      "amenities_ Shampoo                      264.2044    317.959      0.831      0.406    -359.111     887.519\n",
      "amenities_ TV                           549.0680    223.975      2.451      0.014     109.995     988.141\n",
      "amenities_ Iron                         233.4458    212.023      1.101      0.271    -182.196     649.088\n",
      "amenities_Elevator                        4.8761    213.527      0.023      0.982    -413.716     423.468\n",
      "amenities_ Washer                       -99.3219    219.977     -0.452      0.652    -530.557     331.913\n",
      "amenities_ Refrigerator                  29.7225    324.752      0.092      0.927    -606.911     666.356\n",
      "amenities_ Fire extinguisher           -641.8938    290.594     -2.209      0.027   -1211.565     -72.223\n",
      "amenities_ Smoke alarm                    4.6624    275.056      0.017      0.986    -534.548     543.873\n",
      "amenities_ Dishes and silverware        874.9892    387.031      2.261      0.024     116.268    1633.710\n",
      "amenities_ Long term stays allowed    -1397.7471    316.206     -4.420      0.000   -2017.627    -777.867\n",
      "amenities_ Cooking basics               518.9563    328.342      1.581      0.114    -124.713    1162.626\n",
      "amenities_ Bed linens                   638.0843    354.276      1.801      0.072     -56.426    1332.595\n",
      "amenities_ Dedicated workspace         -147.5572    261.615     -0.564      0.573    -660.419     365.305\n",
      "amenities_ Microwave                    392.0186    348.813      1.124      0.261    -291.782    1075.820\n",
      "amenities_ Private entrance              64.6427    249.215      0.259      0.795    -423.910     553.195\n",
      "amenities_ Lock on bedroom door         -93.0699    222.384     -0.419      0.676    -529.024     342.885\n",
      "amenities_ Self check-in               -532.0331    269.799     -1.972      0.049   -1060.937      -3.129\n",
      "amenities_ Heating                     -150.0451    283.526     -0.529      0.597    -705.861     405.770\n",
      "amenities_ First aid kit                984.9058    287.598      3.425      0.001     421.109    1548.702\n",
      "amenities_ Extra pillows and blankets   694.0316    359.407      1.931      0.054     -10.537    1398.600\n",
      "amenities_ Hot water kettle            -739.3363    402.883     -1.835      0.067   -1529.135      50.462\n",
      "amenities_ Shower gel                  -580.7627    377.622     -1.538      0.124   -1321.040     159.514\n",
      "amenities_ Luggage dropoff allowed      986.1260    330.385      2.985      0.003     338.450    1633.802\n",
      "==============================================================================\n",
      "Omnibus:                    20072.845   Durbin-Watson:                   2.005\n",
      "Prob(Omnibus):                  0.000   Jarque-Bera (JB):       4297103758.604\n",
      "Skew:                          60.694   Prob(JB):                         0.00\n",
      "Kurtosis:                    4169.413   Cond. No.                         12.9\n",
      "==============================================================================\n",
      "\n",
      "Notes:\n",
      "[1] R² is computed without centering (uncentered) since the model does not contain a constant.\n",
      "[2] Standard Errors assume that the covariance matrix of the errors is correctly specified.\n"
     ]
    }
   ],
   "source": [
    "import statsmodels.api as sm\n",
    "X = df1.iloc[:,113:]\n",
    "Y = df1['price']\n",
    "\n",
    "model = sm.OLS(Y,X)\n",
    "result=model.fit()\n",
    "print(result.summary())\n"
   ]
  },
  {
   "attachments": {},
   "cell_type": "markdown",
   "metadata": {},
   "source": [
    "我們以用同樣方法，檢視哪些設施的出現會和number_of_reviews_ltm有關。</P>\n",
    "最後發現有以下幾項P值小於0.05，表示與價格有顯著關聯。\n",
    "1. Wifi\n",
    "2. Air conditioning \n",
    "3. Shampoo\n",
    "4. TV\n",
    "5. Elevator\n",
    "6. Smoke alarm\n",
    "7. Dishes and silverware\n",
    "8. Long term stays allowed\n",
    "9. Microwave\n",
    "10. Private entrance\n",
    "11. Lock on bedroom door\n",
    "12. Self check-in\n",
    "13. Extra pillows and blankets \n",
    "14. Hot water kettle\n",
    "15. Shower gel\n"
   ]
  },
  {
   "cell_type": "code",
   "execution_count": 193,
   "metadata": {},
   "outputs": [
    {
     "name": "stdout",
     "output_type": "stream",
     "text": [
      "                                  OLS Regression Results                                  \n",
      "==========================================================================================\n",
      "Dep. Variable:     number_of_reviews_ltm   R-squared (uncentered):                   0.196\n",
      "Model:                               OLS   Adj. R-squared (uncentered):              0.192\n",
      "Method:                    Least Squares   F-statistic:                              47.99\n",
      "Date:                   Tue, 06 Jun 2023   Prob (F-statistic):                   1.01e-252\n",
      "Time:                           02:54:41   Log-Likelihood:                         -18811.\n",
      "No. Observations:                   5936   AIC:                                  3.768e+04\n",
      "Df Residuals:                       5906   BIC:                                  3.788e+04\n",
      "Df Model:                             30                                                  \n",
      "Covariance Type:               nonrobust                                                  \n",
      "=========================================================================================================\n",
      "                                            coef    std err          t      P>|t|      [0.025      0.975]\n",
      "---------------------------------------------------------------------------------------------------------\n",
      "amenities_ Wifi                           0.9025      0.231      3.909      0.000       0.450       1.355\n",
      "amenities_ Air conditioning               0.3617      0.182      1.983      0.047       0.004       0.719\n",
      "amenities_ Essentials                     0.3809      0.255      1.494      0.135      -0.119       0.881\n",
      "amenities_ Kitchen                       -0.2957      0.203     -1.458      0.145      -0.693       0.102\n",
      "amenities_ Hangers                       -0.2366      0.203     -1.164      0.245      -0.635       0.162\n",
      "amenities_ Hair dryer                     0.1819      0.262      0.695      0.487      -0.332       0.695\n",
      "amenities_ Hot water                      0.0961      0.218      0.442      0.659      -0.330       0.523\n",
      "amenities_ Shampoo                        0.8420      0.260      3.245      0.001       0.333       1.351\n",
      "amenities_ TV                            -0.3978      0.183     -2.176      0.030      -0.756      -0.039\n",
      "amenities_ Iron                           0.3008      0.173      1.738      0.082      -0.038       0.640\n",
      "amenities_Elevator                       -1.4392      0.174     -8.258      0.000      -1.781      -1.098\n",
      "amenities_ Washer                        -0.5272      0.180     -2.937      0.003      -0.879      -0.175\n",
      "amenities_ Refrigerator                   0.7025      0.265      2.651      0.008       0.183       1.222\n",
      "amenities_ Fire extinguisher             -0.0687      0.237     -0.290      0.772      -0.534       0.396\n",
      "amenities_ Smoke alarm                    0.5009      0.224      2.231      0.026       0.061       0.941\n",
      "amenities_ Dishes and silverware          2.0257      0.316      6.413      0.000       1.406       2.645\n",
      "amenities_ Long term stays allowed       -0.7092      0.258     -2.748      0.006      -1.215      -0.203\n",
      "amenities_ Cooking basics                -0.2817      0.268     -1.051      0.293      -0.807       0.244\n",
      "amenities_ Bed linens                    -0.2267      0.289     -0.784      0.433      -0.794       0.340\n",
      "amenities_ Dedicated workspace           -0.2122      0.214     -0.994      0.320      -0.631       0.206\n",
      "amenities_ Microwave                     -0.7969      0.285     -2.799      0.005      -1.355      -0.239\n",
      "amenities_ Private entrance               0.9091      0.203      4.469      0.000       0.510       1.308\n",
      "amenities_ Lock on bedroom door          -0.4368      0.181     -2.406      0.016      -0.793      -0.081\n",
      "amenities_ Self check-in                  2.1931      0.220      9.960      0.000       1.761       2.625\n",
      "amenities_ Heating                        0.3812      0.231      1.647      0.100      -0.072       0.835\n",
      "amenities_ First aid kit                 -0.3898      0.235     -1.660      0.097      -0.850       0.070\n",
      "amenities_ Extra pillows and blankets     0.8338      0.293      2.843      0.004       0.259       1.409\n",
      "amenities_ Hot water kettle               0.8159      0.329      2.481      0.013       0.171       1.460\n",
      "amenities_ Shower gel                     1.7117      0.308      5.554      0.000       1.107       2.316\n",
      "amenities_ Luggage dropoff allowed       -0.3798      0.270     -1.409      0.159      -0.908       0.149\n",
      "==============================================================================\n",
      "Omnibus:                     8424.314   Durbin-Watson:                   1.838\n",
      "Prob(Omnibus):                  0.000   Jarque-Bera (JB):          3077534.615\n",
      "Skew:                           8.330   Prob(JB):                         0.00\n",
      "Kurtosis:                     113.296   Cond. No.                         12.9\n",
      "==============================================================================\n",
      "\n",
      "Notes:\n",
      "[1] R² is computed without centering (uncentered) since the model does not contain a constant.\n",
      "[2] Standard Errors assume that the covariance matrix of the errors is correctly specified.\n"
     ]
    }
   ],
   "source": [
    "#import statsmodels.api as sm\n",
    "X = df1.iloc[:,113:]\n",
    "Y = df1['number_of_reviews_ltm']\n",
    "\n",
    "model = sm.OLS(Y,X)\n",
    "result=model.fit()\n",
    "print(result.summary())"
   ]
  },
  {
   "attachments": {},
   "cell_type": "markdown",
   "metadata": {},
   "source": [
    "# 三、結論"
   ]
  },
  {
   "attachments": {},
   "cell_type": "markdown",
   "metadata": {},
   "source": [
    "## 1.分析內容統整\n",
    "透過第二節的敘述性分析，我們可以得到以下結論。\n",
    "1. 連續變數</P>\n",
    "   透過熱力圖可以看到，會影響價格的連續型變數有accommodates、bedrooms和bed。而這蠻符合邏輯的，能夠容納越多人的房間自然就會有較高的價格。\n",
    "\n",
    "2. 類別變數</P>\n",
    "   針對類別變數，整體而言無論是room_type, host_location, neighborhood等以統計數值來看的確有差距，然而由於離群值太多，很難從箱型圖上比較出結果。或許在處理資料的時候還是需要考慮離群值的部分。\n",
    "\n",
    "3. amenities</P>\n",
    "   根據迴歸分析的結果，找到了與價格相關的的設施，日後若要在香港設至airbnb可以參考，或許可能有些幫助獲得更好的營收。但實際上這都只是統計出來的結果，很難找到其中的因果相關，能推敲的原因可能是某些設施是在飯店，或是獨棟住處比較容易出現的關係。但就要再做下一步的檢驗。\n",
    "\n",
    "至於為何沒有對number_of_reviews_ltm的部分做說明，會與下一截的內容有關。\n",
    "\n",
    "## 2.研究限制\n",
    "首先先講到為何後來說明並沒有提到number_of_reviews_ltm。起初的想法是希望透過該變數視為該住處的人氣程度，然而實際上以一般消費者而言，通常會留下評論的情況，不是因為可以取得優惠，就是服務實在太差故留下負評，很難實際代表是真的好還是壞。</P>\n",
    "接下來將對這個報告還可以再改善、或是受限的部分做說明；\n",
    "1. 資料受限部分\n",
    "   該資料都是從AIRBNB上所蒐集，撇除遺失值的部分，該資料多數都是提供「供給」面相關的資料，然而應該也要從其他面向進行分析，例如估計接下來一年的觀光人潮、每團觀光的人數大概多少人、家庭旅遊或是自由行的比例大概如何之類的資訊。</P>\n",
    "2. 改善的部分\n",
    "   有兩個部分可以著手進行改善：一為再針對設施與房型的關係再作分析，例如馬賽克圖等等都是不錯的方法；二為遺失值的處理方式，這次都是只用較簡單的填值或是直接刪去，應該可以嘗試用KNN法以及更細膩的處理方式。"
   ]
  }
 ],
 "metadata": {
  "kernelspec": {
   "display_name": "Python 3",
   "language": "python",
   "name": "python3"
  },
  "language_info": {
   "codemirror_mode": {
    "name": "ipython",
    "version": 3
   },
   "file_extension": ".py",
   "mimetype": "text/x-python",
   "name": "python",
   "nbconvert_exporter": "python",
   "pygments_lexer": "ipython3",
   "version": "3.8.10"
  },
  "orig_nbformat": 4
 },
 "nbformat": 4,
 "nbformat_minor": 2
}
